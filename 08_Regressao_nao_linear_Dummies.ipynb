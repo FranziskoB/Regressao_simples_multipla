{
  "nbformat": 4,
  "nbformat_minor": 0,
  "metadata": {
    "colab": {
      "provenance": [],
      "authorship_tag": "ABX9TyOg2pSdm9IeIDh6vE/F6hqq",
      "include_colab_link": true
    },
    "kernelspec": {
      "name": "python3",
      "display_name": "Python 3"
    },
    "language_info": {
      "name": "python"
    }
  },
  "cells": [
    {
      "cell_type": "markdown",
      "metadata": {
        "id": "view-in-github",
        "colab_type": "text"
      },
      "source": [
        "<a href=\"https://colab.research.google.com/github/FranziskoB/Regressao_simples_multipla/blob/main/08_Regressao_nao_linear_Dummies.ipynb\" target=\"_parent\"><img src=\"https://colab.research.google.com/assets/colab-badge.svg\" alt=\"Open In Colab\"/></a>"
      ]
    },
    {
      "cell_type": "markdown",
      "source": [
        "#RREGRESSÃO NÃO LINEAR MÚLTIPLA COM DUMMIES"
      ],
      "metadata": {
        "id": "4kJN9f6S8jpj"
      }
    },
    {
      "cell_type": "markdown",
      "source": [
        "#Importação das bibliotecas"
      ],
      "metadata": {
        "id": "zOl07wH-8roK"
      }
    },
    {
      "cell_type": "code",
      "source": [
        "import pandas as pd # manipulação de dado em formato de dataframe\n",
        "import seaborn as sns # biblioteca de visualização de informações estatísticas\n",
        "import matplotlib.pyplot as plt # biblioteca de visualização de dados\n",
        "import statsmodels.api as sm # biblioteca de modelagem estatística\n",
        "import numpy as np # biblioteca para operações matemáticas multidimensionais\n",
        "from statsmodels.iolib.summary2 import summary_col\n",
        "from skimage import io\n",
        "import plotly.graph_objs as go\n",
        "from scipy.stats import pearsonr\n",
        "from sklearn.preprocessing import LabelEncoder"
      ],
      "metadata": {
        "id": "Thw-BvJE_7f4"
      },
      "execution_count": 1,
      "outputs": []
    },
    {
      "cell_type": "markdown",
      "source": [
        "## Importando os dados"
      ],
      "metadata": {
        "id": "35EgO02VAB_a"
      }
    },
    {
      "cell_type": "code",
      "source": [
        "df_planosaude = pd.read_csv('https://raw.githubusercontent.com/FranziskoB/Regressao_simples_multipla/main/dados/planosaude.csv', delimiter=',')\n",
        "df_planosaude.head()"
      ],
      "metadata": {
        "colab": {
          "base_uri": "https://localhost:8080/",
          "height": 206
        },
        "id": "T-V2jpiJ8qqx",
        "outputId": "37f4c822-b225-4c2b-de1a-94faac3ed02c"
      },
      "execution_count": 2,
      "outputs": [
        {
          "output_type": "execute_result",
          "data": {
            "text/plain": [
              "   id  despmed  idade  dcron      renda   plano\n",
              "0   1   206.84     57      5  57.200001  bronze\n",
              "1   2   184.19     67      4  67.199997  bronze\n",
              "2   3   175.68     62      4  62.000000  bronze\n",
              "3   4   180.04     67      5  67.199997  bronze\n",
              "4   5   218.86     68      5  68.000000  bronze"
            ],
            "text/html": [
              "\n",
              "  <div id=\"df-85ac0afa-2e5a-4b20-a11d-b1c01df126cd\">\n",
              "    <div class=\"colab-df-container\">\n",
              "      <div>\n",
              "<style scoped>\n",
              "    .dataframe tbody tr th:only-of-type {\n",
              "        vertical-align: middle;\n",
              "    }\n",
              "\n",
              "    .dataframe tbody tr th {\n",
              "        vertical-align: top;\n",
              "    }\n",
              "\n",
              "    .dataframe thead th {\n",
              "        text-align: right;\n",
              "    }\n",
              "</style>\n",
              "<table border=\"1\" class=\"dataframe\">\n",
              "  <thead>\n",
              "    <tr style=\"text-align: right;\">\n",
              "      <th></th>\n",
              "      <th>id</th>\n",
              "      <th>despmed</th>\n",
              "      <th>idade</th>\n",
              "      <th>dcron</th>\n",
              "      <th>renda</th>\n",
              "      <th>plano</th>\n",
              "    </tr>\n",
              "  </thead>\n",
              "  <tbody>\n",
              "    <tr>\n",
              "      <th>0</th>\n",
              "      <td>1</td>\n",
              "      <td>206.84</td>\n",
              "      <td>57</td>\n",
              "      <td>5</td>\n",
              "      <td>57.200001</td>\n",
              "      <td>bronze</td>\n",
              "    </tr>\n",
              "    <tr>\n",
              "      <th>1</th>\n",
              "      <td>2</td>\n",
              "      <td>184.19</td>\n",
              "      <td>67</td>\n",
              "      <td>4</td>\n",
              "      <td>67.199997</td>\n",
              "      <td>bronze</td>\n",
              "    </tr>\n",
              "    <tr>\n",
              "      <th>2</th>\n",
              "      <td>3</td>\n",
              "      <td>175.68</td>\n",
              "      <td>62</td>\n",
              "      <td>4</td>\n",
              "      <td>62.000000</td>\n",
              "      <td>bronze</td>\n",
              "    </tr>\n",
              "    <tr>\n",
              "      <th>3</th>\n",
              "      <td>4</td>\n",
              "      <td>180.04</td>\n",
              "      <td>67</td>\n",
              "      <td>5</td>\n",
              "      <td>67.199997</td>\n",
              "      <td>bronze</td>\n",
              "    </tr>\n",
              "    <tr>\n",
              "      <th>4</th>\n",
              "      <td>5</td>\n",
              "      <td>218.86</td>\n",
              "      <td>68</td>\n",
              "      <td>5</td>\n",
              "      <td>68.000000</td>\n",
              "      <td>bronze</td>\n",
              "    </tr>\n",
              "  </tbody>\n",
              "</table>\n",
              "</div>\n",
              "      <button class=\"colab-df-convert\" onclick=\"convertToInteractive('df-85ac0afa-2e5a-4b20-a11d-b1c01df126cd')\"\n",
              "              title=\"Convert this dataframe to an interactive table.\"\n",
              "              style=\"display:none;\">\n",
              "        \n",
              "  <svg xmlns=\"http://www.w3.org/2000/svg\" height=\"24px\"viewBox=\"0 0 24 24\"\n",
              "       width=\"24px\">\n",
              "    <path d=\"M0 0h24v24H0V0z\" fill=\"none\"/>\n",
              "    <path d=\"M18.56 5.44l.94 2.06.94-2.06 2.06-.94-2.06-.94-.94-2.06-.94 2.06-2.06.94zm-11 1L8.5 8.5l.94-2.06 2.06-.94-2.06-.94L8.5 2.5l-.94 2.06-2.06.94zm10 10l.94 2.06.94-2.06 2.06-.94-2.06-.94-.94-2.06-.94 2.06-2.06.94z\"/><path d=\"M17.41 7.96l-1.37-1.37c-.4-.4-.92-.59-1.43-.59-.52 0-1.04.2-1.43.59L10.3 9.45l-7.72 7.72c-.78.78-.78 2.05 0 2.83L4 21.41c.39.39.9.59 1.41.59.51 0 1.02-.2 1.41-.59l7.78-7.78 2.81-2.81c.8-.78.8-2.07 0-2.86zM5.41 20L4 18.59l7.72-7.72 1.47 1.35L5.41 20z\"/>\n",
              "  </svg>\n",
              "      </button>\n",
              "      \n",
              "  <style>\n",
              "    .colab-df-container {\n",
              "      display:flex;\n",
              "      flex-wrap:wrap;\n",
              "      gap: 12px;\n",
              "    }\n",
              "\n",
              "    .colab-df-convert {\n",
              "      background-color: #E8F0FE;\n",
              "      border: none;\n",
              "      border-radius: 50%;\n",
              "      cursor: pointer;\n",
              "      display: none;\n",
              "      fill: #1967D2;\n",
              "      height: 32px;\n",
              "      padding: 0 0 0 0;\n",
              "      width: 32px;\n",
              "    }\n",
              "\n",
              "    .colab-df-convert:hover {\n",
              "      background-color: #E2EBFA;\n",
              "      box-shadow: 0px 1px 2px rgba(60, 64, 67, 0.3), 0px 1px 3px 1px rgba(60, 64, 67, 0.15);\n",
              "      fill: #174EA6;\n",
              "    }\n",
              "\n",
              "    [theme=dark] .colab-df-convert {\n",
              "      background-color: #3B4455;\n",
              "      fill: #D2E3FC;\n",
              "    }\n",
              "\n",
              "    [theme=dark] .colab-df-convert:hover {\n",
              "      background-color: #434B5C;\n",
              "      box-shadow: 0px 1px 3px 1px rgba(0, 0, 0, 0.15);\n",
              "      filter: drop-shadow(0px 1px 2px rgba(0, 0, 0, 0.3));\n",
              "      fill: #FFFFFF;\n",
              "    }\n",
              "  </style>\n",
              "\n",
              "      <script>\n",
              "        const buttonEl =\n",
              "          document.querySelector('#df-85ac0afa-2e5a-4b20-a11d-b1c01df126cd button.colab-df-convert');\n",
              "        buttonEl.style.display =\n",
              "          google.colab.kernel.accessAllowed ? 'block' : 'none';\n",
              "\n",
              "        async function convertToInteractive(key) {\n",
              "          const element = document.querySelector('#df-85ac0afa-2e5a-4b20-a11d-b1c01df126cd');\n",
              "          const dataTable =\n",
              "            await google.colab.kernel.invokeFunction('convertToInteractive',\n",
              "                                                     [key], {});\n",
              "          if (!dataTable) return;\n",
              "\n",
              "          const docLinkHtml = 'Like what you see? Visit the ' +\n",
              "            '<a target=\"_blank\" href=https://colab.research.google.com/notebooks/data_table.ipynb>data table notebook</a>'\n",
              "            + ' to learn more about interactive tables.';\n",
              "          element.innerHTML = '';\n",
              "          dataTable['output_type'] = 'display_data';\n",
              "          await google.colab.output.renderOutput(dataTable, element);\n",
              "          const docLink = document.createElement('div');\n",
              "          docLink.innerHTML = docLinkHtml;\n",
              "          element.appendChild(docLink);\n",
              "        }\n",
              "      </script>\n",
              "    </div>\n",
              "  </div>\n",
              "  "
            ]
          },
          "metadata": {},
          "execution_count": 2
        }
      ]
    },
    {
      "cell_type": "markdown",
      "source": [
        "Características das variáveis do dataset"
      ],
      "metadata": {
        "id": "QfyjcsL-AQ0m"
      }
    },
    {
      "cell_type": "code",
      "execution_count": 3,
      "metadata": {
        "colab": {
          "base_uri": "https://localhost:8080/"
        },
        "id": "n5kFxaVY8Zo6",
        "outputId": "3efceff8-d01b-485f-9673-b62938fad83b"
      },
      "outputs": [
        {
          "output_type": "stream",
          "name": "stdout",
          "text": [
            "<class 'pandas.core.frame.DataFrame'>\n",
            "RangeIndex: 200 entries, 0 to 199\n",
            "Data columns (total 6 columns):\n",
            " #   Column   Non-Null Count  Dtype  \n",
            "---  ------   --------------  -----  \n",
            " 0   id       200 non-null    int64  \n",
            " 1   despmed  200 non-null    float64\n",
            " 2   idade    200 non-null    int64  \n",
            " 3   dcron    200 non-null    int64  \n",
            " 4   renda    200 non-null    float64\n",
            " 5   plano    200 non-null    object \n",
            "dtypes: float64(2), int64(3), object(1)\n",
            "memory usage: 9.5+ KB\n"
          ]
        }
      ],
      "source": [
        "df_planosaude.info()"
      ]
    },
    {
      "cell_type": "markdown",
      "source": [
        "Estatísticas univariadas"
      ],
      "metadata": {
        "id": "HZilrOIu8iq0"
      }
    },
    {
      "cell_type": "code",
      "source": [
        "df_planosaude.describe()"
      ],
      "metadata": {
        "colab": {
          "base_uri": "https://localhost:8080/",
          "height": 300
        },
        "id": "xj9D1vx8AXH9",
        "outputId": "117cb9b7-1f9a-46c9-913e-5b5d9864c744"
      },
      "execution_count": 4,
      "outputs": [
        {
          "output_type": "execute_result",
          "data": {
            "text/plain": [
              "               id     despmed       idade       dcron       renda\n",
              "count  200.000000  200.000000  200.000000  200.000000  200.000000\n",
              "mean   100.500000  161.183400   50.010000    2.705000   50.022000\n",
              "std     57.879185   42.447084   12.547794    1.670908   12.626538\n",
              "min      1.000000   88.730000   32.000000    0.000000   31.600000\n",
              "25%     50.750000  126.140000   38.000000    1.000000   38.000000\n",
              "50%    100.500000  155.000000   49.000000    2.000000   48.799999\n",
              "75%    150.250000  197.622500   63.000000    4.000000   63.200001\n",
              "max    200.000000  269.200000   68.000000    5.000000   68.000000"
            ],
            "text/html": [
              "\n",
              "  <div id=\"df-f7e9273a-7dfa-4a43-a6ae-76813e5090f3\">\n",
              "    <div class=\"colab-df-container\">\n",
              "      <div>\n",
              "<style scoped>\n",
              "    .dataframe tbody tr th:only-of-type {\n",
              "        vertical-align: middle;\n",
              "    }\n",
              "\n",
              "    .dataframe tbody tr th {\n",
              "        vertical-align: top;\n",
              "    }\n",
              "\n",
              "    .dataframe thead th {\n",
              "        text-align: right;\n",
              "    }\n",
              "</style>\n",
              "<table border=\"1\" class=\"dataframe\">\n",
              "  <thead>\n",
              "    <tr style=\"text-align: right;\">\n",
              "      <th></th>\n",
              "      <th>id</th>\n",
              "      <th>despmed</th>\n",
              "      <th>idade</th>\n",
              "      <th>dcron</th>\n",
              "      <th>renda</th>\n",
              "    </tr>\n",
              "  </thead>\n",
              "  <tbody>\n",
              "    <tr>\n",
              "      <th>count</th>\n",
              "      <td>200.000000</td>\n",
              "      <td>200.000000</td>\n",
              "      <td>200.000000</td>\n",
              "      <td>200.000000</td>\n",
              "      <td>200.000000</td>\n",
              "    </tr>\n",
              "    <tr>\n",
              "      <th>mean</th>\n",
              "      <td>100.500000</td>\n",
              "      <td>161.183400</td>\n",
              "      <td>50.010000</td>\n",
              "      <td>2.705000</td>\n",
              "      <td>50.022000</td>\n",
              "    </tr>\n",
              "    <tr>\n",
              "      <th>std</th>\n",
              "      <td>57.879185</td>\n",
              "      <td>42.447084</td>\n",
              "      <td>12.547794</td>\n",
              "      <td>1.670908</td>\n",
              "      <td>12.626538</td>\n",
              "    </tr>\n",
              "    <tr>\n",
              "      <th>min</th>\n",
              "      <td>1.000000</td>\n",
              "      <td>88.730000</td>\n",
              "      <td>32.000000</td>\n",
              "      <td>0.000000</td>\n",
              "      <td>31.600000</td>\n",
              "    </tr>\n",
              "    <tr>\n",
              "      <th>25%</th>\n",
              "      <td>50.750000</td>\n",
              "      <td>126.140000</td>\n",
              "      <td>38.000000</td>\n",
              "      <td>1.000000</td>\n",
              "      <td>38.000000</td>\n",
              "    </tr>\n",
              "    <tr>\n",
              "      <th>50%</th>\n",
              "      <td>100.500000</td>\n",
              "      <td>155.000000</td>\n",
              "      <td>49.000000</td>\n",
              "      <td>2.000000</td>\n",
              "      <td>48.799999</td>\n",
              "    </tr>\n",
              "    <tr>\n",
              "      <th>75%</th>\n",
              "      <td>150.250000</td>\n",
              "      <td>197.622500</td>\n",
              "      <td>63.000000</td>\n",
              "      <td>4.000000</td>\n",
              "      <td>63.200001</td>\n",
              "    </tr>\n",
              "    <tr>\n",
              "      <th>max</th>\n",
              "      <td>200.000000</td>\n",
              "      <td>269.200000</td>\n",
              "      <td>68.000000</td>\n",
              "      <td>5.000000</td>\n",
              "      <td>68.000000</td>\n",
              "    </tr>\n",
              "  </tbody>\n",
              "</table>\n",
              "</div>\n",
              "      <button class=\"colab-df-convert\" onclick=\"convertToInteractive('df-f7e9273a-7dfa-4a43-a6ae-76813e5090f3')\"\n",
              "              title=\"Convert this dataframe to an interactive table.\"\n",
              "              style=\"display:none;\">\n",
              "        \n",
              "  <svg xmlns=\"http://www.w3.org/2000/svg\" height=\"24px\"viewBox=\"0 0 24 24\"\n",
              "       width=\"24px\">\n",
              "    <path d=\"M0 0h24v24H0V0z\" fill=\"none\"/>\n",
              "    <path d=\"M18.56 5.44l.94 2.06.94-2.06 2.06-.94-2.06-.94-.94-2.06-.94 2.06-2.06.94zm-11 1L8.5 8.5l.94-2.06 2.06-.94-2.06-.94L8.5 2.5l-.94 2.06-2.06.94zm10 10l.94 2.06.94-2.06 2.06-.94-2.06-.94-.94-2.06-.94 2.06-2.06.94z\"/><path d=\"M17.41 7.96l-1.37-1.37c-.4-.4-.92-.59-1.43-.59-.52 0-1.04.2-1.43.59L10.3 9.45l-7.72 7.72c-.78.78-.78 2.05 0 2.83L4 21.41c.39.39.9.59 1.41.59.51 0 1.02-.2 1.41-.59l7.78-7.78 2.81-2.81c.8-.78.8-2.07 0-2.86zM5.41 20L4 18.59l7.72-7.72 1.47 1.35L5.41 20z\"/>\n",
              "  </svg>\n",
              "      </button>\n",
              "      \n",
              "  <style>\n",
              "    .colab-df-container {\n",
              "      display:flex;\n",
              "      flex-wrap:wrap;\n",
              "      gap: 12px;\n",
              "    }\n",
              "\n",
              "    .colab-df-convert {\n",
              "      background-color: #E8F0FE;\n",
              "      border: none;\n",
              "      border-radius: 50%;\n",
              "      cursor: pointer;\n",
              "      display: none;\n",
              "      fill: #1967D2;\n",
              "      height: 32px;\n",
              "      padding: 0 0 0 0;\n",
              "      width: 32px;\n",
              "    }\n",
              "\n",
              "    .colab-df-convert:hover {\n",
              "      background-color: #E2EBFA;\n",
              "      box-shadow: 0px 1px 2px rgba(60, 64, 67, 0.3), 0px 1px 3px 1px rgba(60, 64, 67, 0.15);\n",
              "      fill: #174EA6;\n",
              "    }\n",
              "\n",
              "    [theme=dark] .colab-df-convert {\n",
              "      background-color: #3B4455;\n",
              "      fill: #D2E3FC;\n",
              "    }\n",
              "\n",
              "    [theme=dark] .colab-df-convert:hover {\n",
              "      background-color: #434B5C;\n",
              "      box-shadow: 0px 1px 3px 1px rgba(0, 0, 0, 0.15);\n",
              "      filter: drop-shadow(0px 1px 2px rgba(0, 0, 0, 0.3));\n",
              "      fill: #FFFFFF;\n",
              "    }\n",
              "  </style>\n",
              "\n",
              "      <script>\n",
              "        const buttonEl =\n",
              "          document.querySelector('#df-f7e9273a-7dfa-4a43-a6ae-76813e5090f3 button.colab-df-convert');\n",
              "        buttonEl.style.display =\n",
              "          google.colab.kernel.accessAllowed ? 'block' : 'none';\n",
              "\n",
              "        async function convertToInteractive(key) {\n",
              "          const element = document.querySelector('#df-f7e9273a-7dfa-4a43-a6ae-76813e5090f3');\n",
              "          const dataTable =\n",
              "            await google.colab.kernel.invokeFunction('convertToInteractive',\n",
              "                                                     [key], {});\n",
              "          if (!dataTable) return;\n",
              "\n",
              "          const docLinkHtml = 'Like what you see? Visit the ' +\n",
              "            '<a target=\"_blank\" href=https://colab.research.google.com/notebooks/data_table.ipynb>data table notebook</a>'\n",
              "            + ' to learn more about interactive tables.';\n",
              "          element.innerHTML = '';\n",
              "          dataTable['output_type'] = 'display_data';\n",
              "          await google.colab.output.renderOutput(dataTable, element);\n",
              "          const docLink = document.createElement('div');\n",
              "          docLink.innerHTML = docLinkHtml;\n",
              "          element.appendChild(docLink);\n",
              "        }\n",
              "      </script>\n",
              "    </div>\n",
              "  </div>\n",
              "  "
            ]
          },
          "metadata": {},
          "execution_count": 4
        }
      ]
    },
    {
      "cell_type": "markdown",
      "source": [
        "Transformação da variável 'plano' para o tipo categórico"
      ],
      "metadata": {
        "id": "cf-xILUiuoRP"
      }
    },
    {
      "cell_type": "code",
      "source": [
        "df_planosaude['plano'] = df_planosaude['plano'].astype('category')\n",
        "df_planosaude['plano'].head()"
      ],
      "metadata": {
        "colab": {
          "base_uri": "https://localhost:8080/"
        },
        "id": "wx8h0bMUuqvq",
        "outputId": "377b297b-e607-497f-9dc4-48116c486ff5"
      },
      "execution_count": 6,
      "outputs": [
        {
          "output_type": "execute_result",
          "data": {
            "text/plain": [
              "0    bronze\n",
              "1    bronze\n",
              "2    bronze\n",
              "3    bronze\n",
              "4    bronze\n",
              "Name: plano, dtype: category\n",
              "Categories (3, object): ['bronze', 'esmeralda', 'ouro']"
            ]
          },
          "metadata": {},
          "execution_count": 6
        }
      ]
    },
    {
      "cell_type": "markdown",
      "source": [
        "Tabela de frequências absolutas da variável 'plano'"
      ],
      "metadata": {
        "id": "MdM_I5QGuwbT"
      }
    },
    {
      "cell_type": "code",
      "source": [
        "df_planosaude['plano'].value_counts()"
      ],
      "metadata": {
        "colab": {
          "base_uri": "https://localhost:8080/"
        },
        "id": "gmTnQiUvuxlA",
        "outputId": "402e56dc-2a6e-4aae-e087-3669b283a83a"
      },
      "execution_count": 7,
      "outputs": [
        {
          "output_type": "execute_result",
          "data": {
            "text/plain": [
              "bronze       72\n",
              "esmeralda    66\n",
              "ouro         62\n",
              "Name: plano, dtype: int64"
            ]
          },
          "metadata": {},
          "execution_count": 7
        }
      ]
    },
    {
      "cell_type": "markdown",
      "source": [
        "Distribuições das variáveis, scatters, valores das correlações e suas\n",
        "respectivas significâncias"
      ],
      "metadata": {
        "id": "-X7meZ_Eu0iB"
      }
    },
    {
      "cell_type": "code",
      "source": [
        "def corrfunc(x, y, **kws):\n",
        "    (r, p) = pearsonr(x, y)\n",
        "    ax = plt.gca()\n",
        "    ax.annotate(\"r = {:.2f} \".format(r),\n",
        "                xy=(.1, .9), xycoords=ax.transAxes)\n",
        "    ax.annotate(\"p = {:.3f}\".format(p),\n",
        "                xy=(.4, .9), xycoords=ax.transAxes)\n",
        "\n",
        "plt.figure(figsize=(15,10))\n",
        "graph = sns.pairplot(df_planosaude.loc[:,\"despmed\":\"renda\"], diag_kind=\"kde\")\n",
        "graph.map(corrfunc)\n",
        "plt.show()"
      ],
      "metadata": {
        "colab": {
          "base_uri": "https://localhost:8080/",
          "height": 743
        },
        "id": "EhTTmG9du2jL",
        "outputId": "8470302e-6321-4948-fac5-5a009d032b0a"
      },
      "execution_count": 8,
      "outputs": [
        {
          "output_type": "display_data",
          "data": {
            "text/plain": [
              "<Figure size 1080x720 with 0 Axes>"
            ]
          },
          "metadata": {}
        },
        {
          "output_type": "display_data",
          "data": {
            "text/plain": [
              "<Figure size 720x720 with 20 Axes>"
            ],
            "image/png": "[encoded data removed]"
          },
          "metadata": {
            "needs_background": "light"
          }
        }
      ]
    },
    {
      "cell_type": "markdown",
      "source": [
        "## Dummizando a variável 'plano'"
      ],
      "metadata": {
        "id": "TuOXtN5VyrRy"
      }
    },
    {
      "cell_type": "code",
      "source": [
        "df_planosaude_dummies = pd.get_dummies(df_planosaude, columns=['plano'],\n",
        "                                      drop_first=True)\n",
        "\n",
        "df_planosaude_dummies.head(10)"
      ],
      "metadata": {
        "colab": {
          "base_uri": "https://localhost:8080/",
          "height": 363
        },
        "id": "Vh9FDAgyytip",
        "outputId": "049577f4-84e5-4a08-de4d-95efff918a86"
      },
      "execution_count": 9,
      "outputs": [
        {
          "output_type": "execute_result",
          "data": {
            "text/plain": [
              "   id  despmed  idade  dcron      renda  plano_esmeralda  plano_ouro\n",
              "0   1   206.84     57      5  57.200001                0           0\n",
              "1   2   184.19     67      4  67.199997                0           0\n",
              "2   3   175.68     62      4  62.000000                0           0\n",
              "3   4   180.04     67      5  67.199997                0           0\n",
              "4   5   218.86     68      5  68.000000                0           0\n",
              "5   6   208.11     63      5  63.200001                0           0\n",
              "6   7   220.94     64      5  64.000000                0           0\n",
              "7   8   249.35     66      5  66.000000                0           0\n",
              "8   9   264.93     68      5  68.000000                0           0\n",
              "9  10   196.22     63      3  63.200001                0           0"
            ],
            "text/html": [
              "\n",
              "  <div id=\"df-79f04da6-8766-45f6-9fda-f7061d072154\">\n",
              "    <div class=\"colab-df-container\">\n",
              "      <div>\n",
              "<style scoped>\n",
              "    .dataframe tbody tr th:only-of-type {\n",
              "        vertical-align: middle;\n",
              "    }\n",
              "\n",
              "    .dataframe tbody tr th {\n",
              "        vertical-align: top;\n",
              "    }\n",
              "\n",
              "    .dataframe thead th {\n",
              "        text-align: right;\n",
              "    }\n",
              "</style>\n",
              "<table border=\"1\" class=\"dataframe\">\n",
              "  <thead>\n",
              "    <tr style=\"text-align: right;\">\n",
              "      <th></th>\n",
              "      <th>id</th>\n",
              "      <th>despmed</th>\n",
              "      <th>idade</th>\n",
              "      <th>dcron</th>\n",
              "      <th>renda</th>\n",
              "      <th>plano_esmeralda</th>\n",
              "      <th>plano_ouro</th>\n",
              "    </tr>\n",
              "  </thead>\n",
              "  <tbody>\n",
              "    <tr>\n",
              "      <th>0</th>\n",
              "      <td>1</td>\n",
              "      <td>206.84</td>\n",
              "      <td>57</td>\n",
              "      <td>5</td>\n",
              "      <td>57.200001</td>\n",
              "      <td>0</td>\n",
              "      <td>0</td>\n",
              "    </tr>\n",
              "    <tr>\n",
              "      <th>1</th>\n",
              "      <td>2</td>\n",
              "      <td>184.19</td>\n",
              "      <td>67</td>\n",
              "      <td>4</td>\n",
              "      <td>67.199997</td>\n",
              "      <td>0</td>\n",
              "      <td>0</td>\n",
              "    </tr>\n",
              "    <tr>\n",
              "      <th>2</th>\n",
              "      <td>3</td>\n",
              "      <td>175.68</td>\n",
              "      <td>62</td>\n",
              "      <td>4</td>\n",
              "      <td>62.000000</td>\n",
              "      <td>0</td>\n",
              "      <td>0</td>\n",
              "    </tr>\n",
              "    <tr>\n",
              "      <th>3</th>\n",
              "      <td>4</td>\n",
              "      <td>180.04</td>\n",
              "      <td>67</td>\n",
              "      <td>5</td>\n",
              "      <td>67.199997</td>\n",
              "      <td>0</td>\n",
              "      <td>0</td>\n",
              "    </tr>\n",
              "    <tr>\n",
              "      <th>4</th>\n",
              "      <td>5</td>\n",
              "      <td>218.86</td>\n",
              "      <td>68</td>\n",
              "      <td>5</td>\n",
              "      <td>68.000000</td>\n",
              "      <td>0</td>\n",
              "      <td>0</td>\n",
              "    </tr>\n",
              "    <tr>\n",
              "      <th>5</th>\n",
              "      <td>6</td>\n",
              "      <td>208.11</td>\n",
              "      <td>63</td>\n",
              "      <td>5</td>\n",
              "      <td>63.200001</td>\n",
              "      <td>0</td>\n",
              "      <td>0</td>\n",
              "    </tr>\n",
              "    <tr>\n",
              "      <th>6</th>\n",
              "      <td>7</td>\n",
              "      <td>220.94</td>\n",
              "      <td>64</td>\n",
              "      <td>5</td>\n",
              "      <td>64.000000</td>\n",
              "      <td>0</td>\n",
              "      <td>0</td>\n",
              "    </tr>\n",
              "    <tr>\n",
              "      <th>7</th>\n",
              "      <td>8</td>\n",
              "      <td>249.35</td>\n",
              "      <td>66</td>\n",
              "      <td>5</td>\n",
              "      <td>66.000000</td>\n",
              "      <td>0</td>\n",
              "      <td>0</td>\n",
              "    </tr>\n",
              "    <tr>\n",
              "      <th>8</th>\n",
              "      <td>9</td>\n",
              "      <td>264.93</td>\n",
              "      <td>68</td>\n",
              "      <td>5</td>\n",
              "      <td>68.000000</td>\n",
              "      <td>0</td>\n",
              "      <td>0</td>\n",
              "    </tr>\n",
              "    <tr>\n",
              "      <th>9</th>\n",
              "      <td>10</td>\n",
              "      <td>196.22</td>\n",
              "      <td>63</td>\n",
              "      <td>3</td>\n",
              "      <td>63.200001</td>\n",
              "      <td>0</td>\n",
              "      <td>0</td>\n",
              "    </tr>\n",
              "  </tbody>\n",
              "</table>\n",
              "</div>\n",
              "      <button class=\"colab-df-convert\" onclick=\"convertToInteractive('df-79f04da6-8766-45f6-9fda-f7061d072154')\"\n",
              "              title=\"Convert this dataframe to an interactive table.\"\n",
              "              style=\"display:none;\">\n",
              "        \n",
              "  <svg xmlns=\"http://www.w3.org/2000/svg\" height=\"24px\"viewBox=\"0 0 24 24\"\n",
              "       width=\"24px\">\n",
              "    <path d=\"M0 0h24v24H0V0z\" fill=\"none\"/>\n",
              "    <path d=\"M18.56 5.44l.94 2.06.94-2.06 2.06-.94-2.06-.94-.94-2.06-.94 2.06-2.06.94zm-11 1L8.5 8.5l.94-2.06 2.06-.94-2.06-.94L8.5 2.5l-.94 2.06-2.06.94zm10 10l.94 2.06.94-2.06 2.06-.94-2.06-.94-.94-2.06-.94 2.06-2.06.94z\"/><path d=\"M17.41 7.96l-1.37-1.37c-.4-.4-.92-.59-1.43-.59-.52 0-1.04.2-1.43.59L10.3 9.45l-7.72 7.72c-.78.78-.78 2.05 0 2.83L4 21.41c.39.39.9.59 1.41.59.51 0 1.02-.2 1.41-.59l7.78-7.78 2.81-2.81c.8-.78.8-2.07 0-2.86zM5.41 20L4 18.59l7.72-7.72 1.47 1.35L5.41 20z\"/>\n",
              "  </svg>\n",
              "      </button>\n",
              "      \n",
              "  <style>\n",
              "    .colab-df-container {\n",
              "      display:flex;\n",
              "      flex-wrap:wrap;\n",
              "      gap: 12px;\n",
              "    }\n",
              "\n",
              "    .colab-df-convert {\n",
              "      background-color: #E8F0FE;\n",
              "      border: none;\n",
              "      border-radius: 50%;\n",
              "      cursor: pointer;\n",
              "      display: none;\n",
              "      fill: #1967D2;\n",
              "      height: 32px;\n",
              "      padding: 0 0 0 0;\n",
              "      width: 32px;\n",
              "    }\n",
              "\n",
              "    .colab-df-convert:hover {\n",
              "      background-color: #E2EBFA;\n",
              "      box-shadow: 0px 1px 2px rgba(60, 64, 67, 0.3), 0px 1px 3px 1px rgba(60, 64, 67, 0.15);\n",
              "      fill: #174EA6;\n",
              "    }\n",
              "\n",
              "    [theme=dark] .colab-df-convert {\n",
              "      background-color: #3B4455;\n",
              "      fill: #D2E3FC;\n",
              "    }\n",
              "\n",
              "    [theme=dark] .colab-df-convert:hover {\n",
              "      background-color: #434B5C;\n",
              "      box-shadow: 0px 1px 3px 1px rgba(0, 0, 0, 0.15);\n",
              "      filter: drop-shadow(0px 1px 2px rgba(0, 0, 0, 0.3));\n",
              "      fill: #FFFFFF;\n",
              "    }\n",
              "  </style>\n",
              "\n",
              "      <script>\n",
              "        const buttonEl =\n",
              "          document.querySelector('#df-79f04da6-8766-45f6-9fda-f7061d072154 button.colab-df-convert');\n",
              "        buttonEl.style.display =\n",
              "          google.colab.kernel.accessAllowed ? 'block' : 'none';\n",
              "\n",
              "        async function convertToInteractive(key) {\n",
              "          const element = document.querySelector('#df-79f04da6-8766-45f6-9fda-f7061d072154');\n",
              "          const dataTable =\n",
              "            await google.colab.kernel.invokeFunction('convertToInteractive',\n",
              "                                                     [key], {});\n",
              "          if (!dataTable) return;\n",
              "\n",
              "          const docLinkHtml = 'Like what you see? Visit the ' +\n",
              "            '<a target=\"_blank\" href=https://colab.research.google.com/notebooks/data_table.ipynb>data table notebook</a>'\n",
              "            + ' to learn more about interactive tables.';\n",
              "          element.innerHTML = '';\n",
              "          dataTable['output_type'] = 'display_data';\n",
              "          await google.colab.output.renderOutput(dataTable, element);\n",
              "          const docLink = document.createElement('div');\n",
              "          docLink.innerHTML = docLinkHtml;\n",
              "          element.appendChild(docLink);\n",
              "        }\n",
              "      </script>\n",
              "    </div>\n",
              "  </div>\n",
              "  "
            ]
          },
          "metadata": {},
          "execution_count": 9
        }
      ]
    },
    {
      "cell_type": "markdown",
      "source": [
        "### Estimação do modelo de regressão múltipla com n-1 dummies\n"
      ],
      "metadata": {
        "id": "AAy53qf0yy4J"
      }
    },
    {
      "cell_type": "markdown",
      "source": [
        "Definição da fórmula utilizada no modelo"
      ],
      "metadata": {
        "id": "BDt2HB8-zAU_"
      }
    },
    {
      "cell_type": "code",
      "source": [
        "lista_colunas = list(df_planosaude_dummies.drop(columns=['id',\n",
        "                                                         'despmed']).columns)\n",
        "formula_dummies_modelo = ' + '.join(lista_colunas)\n",
        "formula_dummies_modelo = \"despmed ~ \" + formula_dummies_modelo\n",
        "print(\"Fórmula utilizada: \",formula_dummies_modelo)\n",
        "\n",
        "modelo_planosaude = sm.OLS.from_formula(formula_dummies_modelo,\n",
        "                                        df_planosaude_dummies).fit()"
      ],
      "metadata": {
        "colab": {
          "base_uri": "https://localhost:8080/"
        },
        "id": "jO6YKGBZy4WL",
        "outputId": "ff8f3a38-bf12-43f3-d492-f49af6ca4986"
      },
      "execution_count": 10,
      "outputs": [
        {
          "output_type": "stream",
          "name": "stdout",
          "text": [
            "Fórmula utilizada:  despmed ~ idade + dcron + renda + plano_esmeralda + plano_ouro\n"
          ]
        }
      ]
    },
    {
      "cell_type": "markdown",
      "source": [
        "Parâmetros do modelo"
      ],
      "metadata": {
        "id": "Q1eVkbF-zZtT"
      }
    },
    {
      "cell_type": "code",
      "source": [
        "modelo_planosaude.summary()"
      ],
      "metadata": {
        "colab": {
          "base_uri": "https://localhost:8080/",
          "height": 529
        },
        "id": "3H3Be2FJzbCZ",
        "outputId": "86dad4aa-1520-4876-e0b8-72ae4a28a71f"
      },
      "execution_count": 11,
      "outputs": [
        {
          "output_type": "execute_result",
          "data": {
            "text/plain": [
              "<class 'statsmodels.iolib.summary.Summary'>\n",
              "\"\"\"\n",
              "                            OLS Regression Results                            \n",
              "==============================================================================\n",
              "Dep. Variable:                despmed   R-squared:                       0.871\n",
              "Model:                            OLS   Adj. R-squared:                  0.868\n",
              "Method:                 Least Squares   F-statistic:                     262.3\n",
              "Date:                Thu, 09 Mar 2023   Prob (F-statistic):           2.88e-84\n",
              "Time:                        23:56:10   Log-Likelihood:                -828.04\n",
              "No. Observations:                 200   AIC:                             1668.\n",
              "Df Residuals:                     194   BIC:                             1688.\n",
              "Df Model:                           5                                         \n",
              "Covariance Type:            nonrobust                                         \n",
              "===================================================================================\n",
              "                      coef    std err          t      P>|t|      [0.025      0.975]\n",
              "-----------------------------------------------------------------------------------\n",
              "Intercept         148.8596     12.744     11.681      0.000     123.725     173.994\n",
              "idade               8.9226      5.549      1.608      0.109      -2.021      19.866\n",
              "dcron               6.7232      1.600      4.201      0.000       3.567       9.879\n",
              "renda              -8.4425      5.464     -1.545      0.124     -19.219       2.334\n",
              "plano_esmeralda   -35.0189      4.685     -7.474      0.000     -44.259     -25.779\n",
              "plano_ouro        -58.7653      6.075     -9.673      0.000     -70.747     -46.783\n",
              "==============================================================================\n",
              "Omnibus:                       25.070   Durbin-Watson:                   1.775\n",
              "Prob(Omnibus):                  0.000   Jarque-Bera (JB):               48.329\n",
              "Skew:                           0.622   Prob(JB):                     3.20e-11\n",
              "Kurtosis:                       5.062   Cond. No.                         964.\n",
              "==============================================================================\n",
              "\n",
              "Notes:\n",
              "[1] Standard Errors assume that the covariance matrix of the errors is correctly specified.\n",
              "\"\"\""
            ],
            "text/html": [
              "<table class=\"simpletable\">\n",
              "<caption>OLS Regression Results</caption>\n",
              "<tr>\n",
              "  <th>Dep. Variable:</th>         <td>despmed</td>     <th>  R-squared:         </th> <td>   0.871</td>\n",
              "</tr>\n",
              "<tr>\n",
              "  <th>Model:</th>                   <td>OLS</td>       <th>  Adj. R-squared:    </th> <td>   0.868</td>\n",
              "</tr>\n",
              "<tr>\n",
              "  <th>Method:</th>             <td>Least Squares</td>  <th>  F-statistic:       </th> <td>   262.3</td>\n",
              "</tr>\n",
              "<tr>\n",
              "  <th>Date:</th>             <td>Thu, 09 Mar 2023</td> <th>  Prob (F-statistic):</th> <td>2.88e-84</td>\n",
              "</tr>\n",
              "<tr>\n",
              "  <th>Time:</th>                 <td>23:56:10</td>     <th>  Log-Likelihood:    </th> <td> -828.04</td>\n",
              "</tr>\n",
              "<tr>\n",
              "  <th>No. Observations:</th>      <td>   200</td>      <th>  AIC:               </th> <td>   1668.</td>\n",
              "</tr>\n",
              "<tr>\n",
              "  <th>Df Residuals:</th>          <td>   194</td>      <th>  BIC:               </th> <td>   1688.</td>\n",
              "</tr>\n",
              "<tr>\n",
              "  <th>Df Model:</th>              <td>     5</td>      <th>                     </th>     <td> </td>   \n",
              "</tr>\n",
              "<tr>\n",
              "  <th>Covariance Type:</th>      <td>nonrobust</td>    <th>                     </th>     <td> </td>   \n",
              "</tr>\n",
              "</table>\n",
              "<table class=\"simpletable\">\n",
              "<tr>\n",
              "         <td></td>            <th>coef</th>     <th>std err</th>      <th>t</th>      <th>P>|t|</th>  <th>[0.025</th>    <th>0.975]</th>  \n",
              "</tr>\n",
              "<tr>\n",
              "  <th>Intercept</th>       <td>  148.8596</td> <td>   12.744</td> <td>   11.681</td> <td> 0.000</td> <td>  123.725</td> <td>  173.994</td>\n",
              "</tr>\n",
              "<tr>\n",
              "  <th>idade</th>           <td>    8.9226</td> <td>    5.549</td> <td>    1.608</td> <td> 0.109</td> <td>   -2.021</td> <td>   19.866</td>\n",
              "</tr>\n",
              "<tr>\n",
              "  <th>dcron</th>           <td>    6.7232</td> <td>    1.600</td> <td>    4.201</td> <td> 0.000</td> <td>    3.567</td> <td>    9.879</td>\n",
              "</tr>\n",
              "<tr>\n",
              "  <th>renda</th>           <td>   -8.4425</td> <td>    5.464</td> <td>   -1.545</td> <td> 0.124</td> <td>  -19.219</td> <td>    2.334</td>\n",
              "</tr>\n",
              "<tr>\n",
              "  <th>plano_esmeralda</th> <td>  -35.0189</td> <td>    4.685</td> <td>   -7.474</td> <td> 0.000</td> <td>  -44.259</td> <td>  -25.779</td>\n",
              "</tr>\n",
              "<tr>\n",
              "  <th>plano_ouro</th>      <td>  -58.7653</td> <td>    6.075</td> <td>   -9.673</td> <td> 0.000</td> <td>  -70.747</td> <td>  -46.783</td>\n",
              "</tr>\n",
              "</table>\n",
              "<table class=\"simpletable\">\n",
              "<tr>\n",
              "  <th>Omnibus:</th>       <td>25.070</td> <th>  Durbin-Watson:     </th> <td>   1.775</td>\n",
              "</tr>\n",
              "<tr>\n",
              "  <th>Prob(Omnibus):</th> <td> 0.000</td> <th>  Jarque-Bera (JB):  </th> <td>  48.329</td>\n",
              "</tr>\n",
              "<tr>\n",
              "  <th>Skew:</th>          <td> 0.622</td> <th>  Prob(JB):          </th> <td>3.20e-11</td>\n",
              "</tr>\n",
              "<tr>\n",
              "  <th>Kurtosis:</th>      <td> 5.062</td> <th>  Cond. No.          </th> <td>    964.</td>\n",
              "</tr>\n",
              "</table><br/><br/>Notes:<br/>[1] Standard Errors assume that the covariance matrix of the errors is correctly specified."
            ]
          },
          "metadata": {},
          "execution_count": 11
        }
      ]
    },
    {
      "cell_type": "markdown",
      "source": [
        "## Aplicação do procedimento Stepwise"
      ],
      "metadata": {
        "id": "q1sGbBhUGqCp"
      }
    },
    {
      "cell_type": "markdown",
      "source": [
        "Na estatística, a regressão por stepwise é um técnica de ajuste de modelos de regressão em que a escolha das variáveis preditivas é realizada por um procedimento automático.[1][2][3][4] Em cada etapa, uma variável é considerada para adição ou subtração do conjunto de variáveis explicativas com base em algum critério pré-especificado. Normalmente, se assume a forma de uma sequência de testes ou t, mas outras técnicas são possíveis, como R 2 ajustado, critério de informação de Akaike, critério de informação Bayesiano, Mallows, PRESS ou taxa de descoberta falsa.\n",
        "\n",
        "Na prática frequente de ajuste do modelo final selecionado seguido de relatórios de estimativas e intervalos de confiança sem ajustá-los para levar em conta o processo de construção de modelo levou a pedidos para parar de usar a construção de modelo passo a passo[5][6] ou pelo menos ter certeza de a incerteza do modelo é refletida corretament"
      ],
      "metadata": {
        "id": "saWUsht0Hqjl"
      }
    },
    {
      "cell_type": "code",
      "source": [
        "!pip install \"stepwise-process==2.5\""
      ],
      "metadata": {
        "id": "MGMOp-cfHIBT"
      },
      "execution_count": null,
      "outputs": []
    },
    {
      "cell_type": "code",
      "source": [
        "from stepwise_process.statsmodels import stepwise\n",
        "modelo_step_planosaude = stepwise(modelo_planosaude, pvalue_limit=0.05)\n"
      ],
      "metadata": {
        "colab": {
          "base_uri": "https://localhost:8080/"
        },
        "id": "D1q2xX8CGvIV",
        "outputId": "13584fab-7788-4fd0-ee08-1102e9647baa"
      },
      "execution_count": 13,
      "outputs": [
        {
          "output_type": "stream",
          "name": "stdout",
          "text": [
            "Regression type: OLS \n",
            "\n",
            "Estimating model...: \n",
            " despmed ~ idade + dcron + renda + plano_esmeralda + plano_ouro\n",
            "\n",
            " Discarding atribute \"renda\" with p-value equal to 0.12394651280125517 \n",
            "\n",
            "Estimating model...: \n",
            " despmed ~ idade + dcron + plano_esmeralda + plano_ouro\n",
            "\n",
            " Discarding atribute \"idade\" with p-value equal to 0.11501748716135901 \n",
            "\n",
            "Estimating model...: \n",
            " despmed ~ dcron + plano_esmeralda + plano_ouro\n",
            "\n",
            " No more atributes with p-value higher than 0.05\n",
            "\n",
            " Atributes discarded on the process...: \n",
            "\n",
            "{'atribute': 'renda', 'p-value': 0.12394651280125517}\n",
            "{'atribute': 'idade', 'p-value': 0.11501748716135901}\n",
            "\n",
            " Model after stepwise process...: \n",
            " despmed ~ dcron + plano_esmeralda + plano_ouro \n",
            "\n",
            "                            OLS Regression Results                            \n",
            "==============================================================================\n",
            "Dep. Variable:                despmed   R-squared:                       0.868\n",
            "Model:                            OLS   Adj. R-squared:                  0.866\n",
            "Method:                 Least Squares   F-statistic:                     429.1\n",
            "Date:                Thu, 09 Mar 2023   Prob (F-statistic):           7.53e-86\n",
            "Time:                        23:57:30   Log-Likelihood:                -830.54\n",
            "No. Observations:                 200   AIC:                             1669.\n",
            "Df Residuals:                     196   BIC:                             1682.\n",
            "Df Model:                           3                                         \n",
            "Covariance Type:            nonrobust                                         \n",
            "===================================================================================\n",
            "                      coef    std err          t      P>|t|      [0.025      0.975]\n",
            "-----------------------------------------------------------------------------------\n",
            "Intercept         170.4948      6.345     26.869      0.000     157.981     183.009\n",
            "dcron               8.5833      1.334      6.436      0.000       5.953      11.213\n",
            "plano_esmeralda   -38.5561      4.143     -9.305      0.000     -46.728     -30.385\n",
            "plano_ouro        -63.8897      5.304    -12.045      0.000     -74.351     -53.429\n",
            "==============================================================================\n",
            "Omnibus:                       29.826   Durbin-Watson:                   1.756\n",
            "Prob(Omnibus):                  0.000   Jarque-Bera (JB):               61.963\n",
            "Skew:                           0.707   Prob(JB):                     3.51e-14\n",
            "Kurtosis:                       5.331   Cond. No.                         27.0\n",
            "==============================================================================\n",
            "\n",
            "Notes:\n",
            "[1] Standard Errors assume that the covariance matrix of the errors is correctly specified.\n"
          ]
        }
      ]
    },
    {
      "cell_type": "markdown",
      "source": [
        "Na aplicação do procedimento, note que se retirarmos a variável endividamento , o 𝛽 do disclosure não passa no teste de \n",
        "significância. Neste exemplo, como resultado sobraram somente 𝛽 de ativos e 𝛽 liquidez como sendo significantes. \n"
      ],
      "metadata": {
        "id": "9unTXpj-Ie5z"
      }
    },
    {
      "cell_type": "markdown",
      "source": [
        "##Teste de verificação da aderência dos resíduos à normalidade"
      ],
      "metadata": {
        "id": "k6yDfvx6H4xg"
      }
    },
    {
      "cell_type": "markdown",
      "source": [
        "Teste aplicado para validação do modelo caso os termos de erros sejam aderentes a normalidade, é necessário considerar a utilização de modelos não linerares "
      ],
      "metadata": {
        "id": "KvRgNW_GJPF9"
      }
    },
    {
      "cell_type": "code",
      "source": [
        "!pip install \"sfrancia==1.0.8\""
      ],
      "metadata": {
        "id": "sNaGh1_ZJsAX"
      },
      "execution_count": null,
      "outputs": []
    },
    {
      "cell_type": "code",
      "source": [
        "from sfrancia import shapiroFrancia\n",
        "shapiroFrancia(modelo_step_planosaude.resid)"
      ],
      "metadata": {
        "colab": {
          "base_uri": "https://localhost:8080/"
        },
        "id": "6GKmytHjJws9",
        "outputId": "40de0690-ab63-4f6f-9eba-db2babdc1484"
      },
      "execution_count": 15,
      "outputs": [
        {
          "output_type": "execute_result",
          "data": {
            "text/plain": [
              "{'method': 'Shapiro-Francia normality test',\n",
              " 'statistics W': 0.9429167651264182,\n",
              " 'statistics z': 4.609587272596199,\n",
              " 'p-value': 2.017345699616836e-06}"
            ]
          },
          "metadata": {},
          "execution_count": 15
        }
      ]
    },
    {
      "cell_type": "markdown",
      "source": [
        "Considerando um nivel de significância de 95%, em termo estatistico os residuos não tem aderência a normalidade "
      ],
      "metadata": {
        "id": "EcLPPwO1J3LN"
      }
    },
    {
      "cell_type": "markdown",
      "source": [
        "Plotando os resíduos do 'modelo_step_planosaude',\n",
        "com curva normal teórica"
      ],
      "metadata": {
        "id": "X6mlB_wqKdpV"
      }
    },
    {
      "cell_type": "code",
      "source": [
        "from scipy.stats import norm\n",
        "\n",
        "plt.figure(figsize=(15,10))\n",
        "sns.distplot(modelo_step_planosaude.resid, fit=norm, kde=True, bins=15)\n",
        "plt.xlabel('Resíduos', fontsize=16)\n",
        "plt.ylabel('Frequências', fontsize=16)\n",
        "plt.show()"
      ],
      "metadata": {
        "colab": {
          "base_uri": "https://localhost:8080/",
          "height": 666
        },
        "id": "6mouwNsKJ1xI",
        "outputId": "3a1d6e8d-c624-48e7-e885-2dde6a31dcbd"
      },
      "execution_count": 16,
      "outputs": [
        {
          "output_type": "stream",
          "name": "stderr",
          "text": [
            "/usr/local/lib/python3.9/dist-packages/seaborn/distributions.py:2619: FutureWarning: `distplot` is a deprecated function and will be removed in a future version. Please adapt your code to use either `displot` (a figure-level function with similar flexibility) or `histplot` (an axes-level function for histograms).\n",
            "  warnings.warn(msg, FutureWarning)\n"
          ]
        },
        {
          "output_type": "display_data",
          "data": {
            "text/plain": [
              "<Figure size 1080x720 with 1 Axes>"
            ],
            "image/png": "[encoded data removed]"
          },
          "metadata": {
            "needs_background": "light"
          }
        }
      ]
    },
    {
      "cell_type": "markdown",
      "source": [
        "Kernel density estimation (KDE) - forma não-paramétrica para estimar\n",
        "a função densidade de probabilidade de uma variável aleatória"
      ],
      "metadata": {
        "id": "NO6ki14w0yK4"
      }
    },
    {
      "cell_type": "code",
      "source": [
        "plt.figure(figsize=(15,10))\n",
        "sns.kdeplot(data=modelo_step_planosaude.resid, multiple=\"stack\",\n",
        "            color='#55C667FF')\n",
        "plt.xlabel('Resíduos', fontsize=16)\n",
        "plt.ylabel('Frequências', fontsize=16)\n",
        "plt.show()"
      ],
      "metadata": {
        "colab": {
          "base_uri": "https://localhost:8080/",
          "height": 611
        },
        "id": "JDeRxkJH01MC",
        "outputId": "55974a09-a75d-4ddc-cb7d-8e028ce0270a"
      },
      "execution_count": 17,
      "outputs": [
        {
          "output_type": "display_data",
          "data": {
            "text/plain": [
              "<Figure size 1080x720 with 1 Axes>"
            ],
            "image/png": "[encoded data removed]"
          },
          "metadata": {
            "needs_background": "light"
          }
        }
      ]
    },
    {
      "cell_type": "markdown",
      "source": [
        " Função para o teste de Breusch-Pagan para a elaboração de diagnóstico de heterocedasticidade"
      ],
      "metadata": {
        "id": "S1G7m87T06Q2"
      }
    },
    {
      "cell_type": "code",
      "source": [
        "from scipy import stats\n",
        "def breusch_pagan_test(modelo):# Criação da função 'breusch_pagan_test'\n",
        "\n",
        "    df = pd.DataFrame({'yhat':modelo.fittedvalues,\n",
        "                       'resid':modelo.resid})\n",
        "   \n",
        "    df['up'] = (np.square(df.resid))/np.sum(((np.square(df.resid))/df.shape[0]))\n",
        "   \n",
        "    modelo_aux = sm.OLS.from_formula('up ~ yhat', df).fit()\n",
        "   \n",
        "    anova_table = sm.stats.anova_lm(modelo_aux, typ=2)\n",
        "   \n",
        "    anova_table['sum_sq'] = anova_table['sum_sq']/2\n",
        "    \n",
        "    chisq = anova_table['sum_sq'].iloc[0]\n",
        "   \n",
        "    p_value = stats.chi2.pdf(chisq, 1)*2\n",
        "    \n",
        "    print(f\"chisq: {chisq}\")\n",
        "    \n",
        "    print(f\"p-value: {p_value}\")\n",
        "    \n",
        "    return chisq, p_value"
      ],
      "metadata": {
        "id": "oXIfxs0X0-pR"
      },
      "execution_count": 21,
      "outputs": []
    },
    {
      "cell_type": "markdown",
      "source": [
        "###Teste de Breusch-Pagan\n"
      ],
      "metadata": {
        "id": "jTNpYcsC1DQT"
      }
    },
    {
      "cell_type": "code",
      "source": [
        "breusch_pagan_test(modelo_step_planosaude)"
      ],
      "metadata": {
        "colab": {
          "base_uri": "https://localhost:8080/"
        },
        "id": "ITJAgBGr1HdV",
        "outputId": "38581851-8f4c-45f6-baa4-2b1ca962499b"
      },
      "execution_count": 22,
      "outputs": [
        {
          "output_type": "stream",
          "name": "stdout",
          "text": [
            "chisq: 60.80182494235374\n",
            "p-value: 6.412586303736205e-15\n"
          ]
        },
        {
          "output_type": "execute_result",
          "data": {
            "text/plain": [
              "(60.80182494235374, 6.412586303736205e-15)"
            ]
          },
          "metadata": {},
          "execution_count": 22
        }
      ]
    },
    {
      "cell_type": "markdown",
      "source": [
        "Presença de heterocedasticidade -> omissão de variável(is) explicativa(s)relevante(s)\n",
        "\n",
        "*   H0 do teste: ausência de heterocedasticidade.\n",
        "*   H1 do teste: heterocedasticidade, ou seja, correlação entre resíduos e uma ou mais variáveis explicativas, o que indica omissão de variável relevante!"
      ],
      "metadata": {
        "id": "G6k4KKAN1b_w"
      }
    },
    {
      "cell_type": "markdown",
      "source": [
        "Adicionando fitted values e resíduos do 'modelo_step_planosaude'\n",
        "no dataset 'df_planosaude_dummies'"
      ],
      "metadata": {
        "id": "-ZDSrCgt1yrJ"
      }
    },
    {
      "cell_type": "code",
      "source": [
        "df_planosaude_dummies['fitted_step'] = modelo_step_planosaude.fittedvalues\n",
        "df_planosaude_dummies['residuos_step'] = modelo_step_planosaude.resid\n",
        "df_planosaude_dummies\n"
      ],
      "metadata": {
        "colab": {
          "base_uri": "https://localhost:8080/",
          "height": 423
        },
        "id": "HZZ7mr_W10ai",
        "outputId": "e76dd007-fe74-4b3a-8ec7-5db0baa559f4"
      },
      "execution_count": 23,
      "outputs": [
        {
          "output_type": "execute_result",
          "data": {
            "text/plain": [
              "      id  despmed  idade  dcron      renda  plano_esmeralda  plano_ouro  \\\n",
              "0      1   206.84     57      5  57.200001                0           0   \n",
              "1      2   184.19     67      4  67.199997                0           0   \n",
              "2      3   175.68     62      4  62.000000                0           0   \n",
              "3      4   180.04     67      5  67.199997                0           0   \n",
              "4      5   218.86     68      5  68.000000                0           0   \n",
              "..   ...      ...    ...    ...        ...              ...         ...   \n",
              "195  196   159.02     63      3  63.200001                1           0   \n",
              "196  197   205.35     64      4  64.000000                0           0   \n",
              "197  198   133.64     49      4  48.799999                1           0   \n",
              "198  199   158.73     44      2  44.000000                1           0   \n",
              "199  200   156.47     50      2  50.400002                1           0   \n",
              "\n",
              "     fitted_step  residuos_step  \n",
              "0     213.411485      -6.571485  \n",
              "1     204.828144     -20.638144  \n",
              "2     204.828144     -29.148144  \n",
              "3     213.411485     -33.371485  \n",
              "4     213.411485       5.448515  \n",
              "..           ...            ...  \n",
              "195   157.688693       1.331307  \n",
              "196   204.828144       0.521856  \n",
              "197   166.272034     -32.632034  \n",
              "198   149.105352       9.624648  \n",
              "199   149.105352       7.364648  \n",
              "\n",
              "[200 rows x 9 columns]"
            ],
            "text/html": [
              "\n",
              "  <div id=\"df-3778123a-92ec-4842-b6a6-883d3dcfb62f\">\n",
              "    <div class=\"colab-df-container\">\n",
              "      <div>\n",
              "<style scoped>\n",
              "    .dataframe tbody tr th:only-of-type {\n",
              "        vertical-align: middle;\n",
              "    }\n",
              "\n",
              "    .dataframe tbody tr th {\n",
              "        vertical-align: top;\n",
              "    }\n",
              "\n",
              "    .dataframe thead th {\n",
              "        text-align: right;\n",
              "    }\n",
              "</style>\n",
              "<table border=\"1\" class=\"dataframe\">\n",
              "  <thead>\n",
              "    <tr style=\"text-align: right;\">\n",
              "      <th></th>\n",
              "      <th>id</th>\n",
              "      <th>despmed</th>\n",
              "      <th>idade</th>\n",
              "      <th>dcron</th>\n",
              "      <th>renda</th>\n",
              "      <th>plano_esmeralda</th>\n",
              "      <th>plano_ouro</th>\n",
              "      <th>fitted_step</th>\n",
              "      <th>residuos_step</th>\n",
              "    </tr>\n",
              "  </thead>\n",
              "  <tbody>\n",
              "    <tr>\n",
              "      <th>0</th>\n",
              "      <td>1</td>\n",
              "      <td>206.84</td>\n",
              "      <td>57</td>\n",
              "      <td>5</td>\n",
              "      <td>57.200001</td>\n",
              "      <td>0</td>\n",
              "      <td>0</td>\n",
              "      <td>213.411485</td>\n",
              "      <td>-6.571485</td>\n",
              "    </tr>\n",
              "    <tr>\n",
              "      <th>1</th>\n",
              "      <td>2</td>\n",
              "      <td>184.19</td>\n",
              "      <td>67</td>\n",
              "      <td>4</td>\n",
              "      <td>67.199997</td>\n",
              "      <td>0</td>\n",
              "      <td>0</td>\n",
              "      <td>204.828144</td>\n",
              "      <td>-20.638144</td>\n",
              "    </tr>\n",
              "    <tr>\n",
              "      <th>2</th>\n",
              "      <td>3</td>\n",
              "      <td>175.68</td>\n",
              "      <td>62</td>\n",
              "      <td>4</td>\n",
              "      <td>62.000000</td>\n",
              "      <td>0</td>\n",
              "      <td>0</td>\n",
              "      <td>204.828144</td>\n",
              "      <td>-29.148144</td>\n",
              "    </tr>\n",
              "    <tr>\n",
              "      <th>3</th>\n",
              "      <td>4</td>\n",
              "      <td>180.04</td>\n",
              "      <td>67</td>\n",
              "      <td>5</td>\n",
              "      <td>67.199997</td>\n",
              "      <td>0</td>\n",
              "      <td>0</td>\n",
              "      <td>213.411485</td>\n",
              "      <td>-33.371485</td>\n",
              "    </tr>\n",
              "    <tr>\n",
              "      <th>4</th>\n",
              "      <td>5</td>\n",
              "      <td>218.86</td>\n",
              "      <td>68</td>\n",
              "      <td>5</td>\n",
              "      <td>68.000000</td>\n",
              "      <td>0</td>\n",
              "      <td>0</td>\n",
              "      <td>213.411485</td>\n",
              "      <td>5.448515</td>\n",
              "    </tr>\n",
              "    <tr>\n",
              "      <th>...</th>\n",
              "      <td>...</td>\n",
              "      <td>...</td>\n",
              "      <td>...</td>\n",
              "      <td>...</td>\n",
              "      <td>...</td>\n",
              "      <td>...</td>\n",
              "      <td>...</td>\n",
              "      <td>...</td>\n",
              "      <td>...</td>\n",
              "    </tr>\n",
              "    <tr>\n",
              "      <th>195</th>\n",
              "      <td>196</td>\n",
              "      <td>159.02</td>\n",
              "      <td>63</td>\n",
              "      <td>3</td>\n",
              "      <td>63.200001</td>\n",
              "      <td>1</td>\n",
              "      <td>0</td>\n",
              "      <td>157.688693</td>\n",
              "      <td>1.331307</td>\n",
              "    </tr>\n",
              "    <tr>\n",
              "      <th>196</th>\n",
              "      <td>197</td>\n",
              "      <td>205.35</td>\n",
              "      <td>64</td>\n",
              "      <td>4</td>\n",
              "      <td>64.000000</td>\n",
              "      <td>0</td>\n",
              "      <td>0</td>\n",
              "      <td>204.828144</td>\n",
              "      <td>0.521856</td>\n",
              "    </tr>\n",
              "    <tr>\n",
              "      <th>197</th>\n",
              "      <td>198</td>\n",
              "      <td>133.64</td>\n",
              "      <td>49</td>\n",
              "      <td>4</td>\n",
              "      <td>48.799999</td>\n",
              "      <td>1</td>\n",
              "      <td>0</td>\n",
              "      <td>166.272034</td>\n",
              "      <td>-32.632034</td>\n",
              "    </tr>\n",
              "    <tr>\n",
              "      <th>198</th>\n",
              "      <td>199</td>\n",
              "      <td>158.73</td>\n",
              "      <td>44</td>\n",
              "      <td>2</td>\n",
              "      <td>44.000000</td>\n",
              "      <td>1</td>\n",
              "      <td>0</td>\n",
              "      <td>149.105352</td>\n",
              "      <td>9.624648</td>\n",
              "    </tr>\n",
              "    <tr>\n",
              "      <th>199</th>\n",
              "      <td>200</td>\n",
              "      <td>156.47</td>\n",
              "      <td>50</td>\n",
              "      <td>2</td>\n",
              "      <td>50.400002</td>\n",
              "      <td>1</td>\n",
              "      <td>0</td>\n",
              "      <td>149.105352</td>\n",
              "      <td>7.364648</td>\n",
              "    </tr>\n",
              "  </tbody>\n",
              "</table>\n",
              "<p>200 rows × 9 columns</p>\n",
              "</div>\n",
              "      <button class=\"colab-df-convert\" onclick=\"convertToInteractive('df-3778123a-92ec-4842-b6a6-883d3dcfb62f')\"\n",
              "              title=\"Convert this dataframe to an interactive table.\"\n",
              "              style=\"display:none;\">\n",
              "        \n",
              "  <svg xmlns=\"http://www.w3.org/2000/svg\" height=\"24px\"viewBox=\"0 0 24 24\"\n",
              "       width=\"24px\">\n",
              "    <path d=\"M0 0h24v24H0V0z\" fill=\"none\"/>\n",
              "    <path d=\"M18.56 5.44l.94 2.06.94-2.06 2.06-.94-2.06-.94-.94-2.06-.94 2.06-2.06.94zm-11 1L8.5 8.5l.94-2.06 2.06-.94-2.06-.94L8.5 2.5l-.94 2.06-2.06.94zm10 10l.94 2.06.94-2.06 2.06-.94-2.06-.94-.94-2.06-.94 2.06-2.06.94z\"/><path d=\"M17.41 7.96l-1.37-1.37c-.4-.4-.92-.59-1.43-.59-.52 0-1.04.2-1.43.59L10.3 9.45l-7.72 7.72c-.78.78-.78 2.05 0 2.83L4 21.41c.39.39.9.59 1.41.59.51 0 1.02-.2 1.41-.59l7.78-7.78 2.81-2.81c.8-.78.8-2.07 0-2.86zM5.41 20L4 18.59l7.72-7.72 1.47 1.35L5.41 20z\"/>\n",
              "  </svg>\n",
              "      </button>\n",
              "      \n",
              "  <style>\n",
              "    .colab-df-container {\n",
              "      display:flex;\n",
              "      flex-wrap:wrap;\n",
              "      gap: 12px;\n",
              "    }\n",
              "\n",
              "    .colab-df-convert {\n",
              "      background-color: #E8F0FE;\n",
              "      border: none;\n",
              "      border-radius: 50%;\n",
              "      cursor: pointer;\n",
              "      display: none;\n",
              "      fill: #1967D2;\n",
              "      height: 32px;\n",
              "      padding: 0 0 0 0;\n",
              "      width: 32px;\n",
              "    }\n",
              "\n",
              "    .colab-df-convert:hover {\n",
              "      background-color: #E2EBFA;\n",
              "      box-shadow: 0px 1px 2px rgba(60, 64, 67, 0.3), 0px 1px 3px 1px rgba(60, 64, 67, 0.15);\n",
              "      fill: #174EA6;\n",
              "    }\n",
              "\n",
              "    [theme=dark] .colab-df-convert {\n",
              "      background-color: #3B4455;\n",
              "      fill: #D2E3FC;\n",
              "    }\n",
              "\n",
              "    [theme=dark] .colab-df-convert:hover {\n",
              "      background-color: #434B5C;\n",
              "      box-shadow: 0px 1px 3px 1px rgba(0, 0, 0, 0.15);\n",
              "      filter: drop-shadow(0px 1px 2px rgba(0, 0, 0, 0.3));\n",
              "      fill: #FFFFFF;\n",
              "    }\n",
              "  </style>\n",
              "\n",
              "      <script>\n",
              "        const buttonEl =\n",
              "          document.querySelector('#df-3778123a-92ec-4842-b6a6-883d3dcfb62f button.colab-df-convert');\n",
              "        buttonEl.style.display =\n",
              "          google.colab.kernel.accessAllowed ? 'block' : 'none';\n",
              "\n",
              "        async function convertToInteractive(key) {\n",
              "          const element = document.querySelector('#df-3778123a-92ec-4842-b6a6-883d3dcfb62f');\n",
              "          const dataTable =\n",
              "            await google.colab.kernel.invokeFunction('convertToInteractive',\n",
              "                                                     [key], {});\n",
              "          if (!dataTable) return;\n",
              "\n",
              "          const docLinkHtml = 'Like what you see? Visit the ' +\n",
              "            '<a target=\"_blank\" href=https://colab.research.google.com/notebooks/data_table.ipynb>data table notebook</a>'\n",
              "            + ' to learn more about interactive tables.';\n",
              "          element.innerHTML = '';\n",
              "          dataTable['output_type'] = 'display_data';\n",
              "          await google.colab.output.renderOutput(dataTable, element);\n",
              "          const docLink = document.createElement('div');\n",
              "          docLink.innerHTML = docLinkHtml;\n",
              "          element.appendChild(docLink);\n",
              "        }\n",
              "      </script>\n",
              "    </div>\n",
              "  </div>\n",
              "  "
            ]
          },
          "metadata": {},
          "execution_count": 23
        }
      ]
    },
    {
      "cell_type": "markdown",
      "source": [
        "Gráfico que relaciona resíduos e fitted values\n",
        "do 'modelo_step_planosaude'"
      ],
      "metadata": {
        "id": "lNwEisxu13r7"
      }
    },
    {
      "cell_type": "code",
      "source": [
        "xdata = df_planosaude_dummies['fitted_step']\n",
        "ydata = df_planosaude_dummies['residuos_step']\n",
        "\n",
        "plt.figure(figsize=(15,10))\n",
        "plt.scatter(xdata, ydata, alpha=0.6)\n",
        "plt.xlabel('Fitted Values do Modelo Stepwise', fontsize=16)\n",
        "plt.ylabel('Resíduos do Modelo Stepwise', fontsize=16)\n",
        "plt.show()"
      ],
      "metadata": {
        "colab": {
          "base_uri": "https://localhost:8080/",
          "height": 612
        },
        "id": "PKWVW-vP154V",
        "outputId": "190a22bf-6df3-4c00-80c5-bf0af6b395b7"
      },
      "execution_count": 24,
      "outputs": [
        {
          "output_type": "display_data",
          "data": {
            "text/plain": [
              "<Figure size 1080x720 with 1 Axes>"
            ],
            "image/png": "[encoded data removed]"
          },
          "metadata": {
            "needs_background": "light"
          }
        }
      ]
    },
    {
      "cell_type": "markdown",
      "source": [
        "##Transformação de Box-Cox"
      ],
      "metadata": {
        "id": "TFXtA53GKuGB"
      }
    },
    {
      "cell_type": "markdown",
      "source": [
        "Em estatística, uma transformação de potência é uma família de funções que são aplicadas para criar a transformação monotônica de dados usando funções de potência. Esta é uma técnica de transformação de dados útil usada para estabilizar a variância, tornar os dados mais semelhantes à distribuição normal, melhorar a validade das medidas de associação (como a correlação de Pearson entre as variáveis) e para outros procedimentos de estabilização de dados."
      ],
      "metadata": {
        "id": "jw54aTy_0ft8"
      }
    },
    {
      "cell_type": "code",
      "source": [
        "from scipy.stats import boxcox\n",
        "\n",
        "#x é uma variável que traz os valores transformados (Y*)\n",
        "#'lmbda' é o lambda de Box-Cox\n",
        "x, lmbda = boxcox(df_planosaude_dummies['despmed'])\n",
        "\n",
        "print(\"Primeiros valores: \",x[:5])\n",
        "print(\"Lambda: \",lmbda)"
      ],
      "metadata": {
        "colab": {
          "base_uri": "https://localhost:8080/"
        },
        "id": "WV9NRoaD0kQ3",
        "outputId": "a109bf6d-59df-49d6-cb96-d17aed6ccb27"
      },
      "execution_count": 26,
      "outputs": [
        {
          "output_type": "stream",
          "name": "stdout",
          "text": [
            "Primeiros valores:  [3.718813   3.66464869 3.64229506 3.65389877 3.74486701]\n",
            "Lambda:  -0.14436741694478952\n"
          ]
        }
      ]
    },
    {
      "cell_type": "markdown",
      "source": [
        "Inserindo o lambda de Box-Cox no dataset para a estimação de um novo modelo\n"
      ],
      "metadata": {
        "id": "XaoTzg5K0wV2"
      }
    },
    {
      "cell_type": "code",
      "source": [
        "df_planosaude_dummies['bc_despmed'] = x\n",
        "df_planosaude_dummies"
      ],
      "metadata": {
        "colab": {
          "base_uri": "https://localhost:8080/",
          "height": 423
        },
        "id": "rO59ziuX0rOZ",
        "outputId": "fef49d30-2538-406e-bcf4-3945b7bdfd45"
      },
      "execution_count": 27,
      "outputs": [
        {
          "output_type": "execute_result",
          "data": {
            "text/plain": [
              "      id  despmed  idade  dcron      renda  plano_esmeralda  plano_ouro  \\\n",
              "0      1   206.84     57      5  57.200001                0           0   \n",
              "1      2   184.19     67      4  67.199997                0           0   \n",
              "2      3   175.68     62      4  62.000000                0           0   \n",
              "3      4   180.04     67      5  67.199997                0           0   \n",
              "4      5   218.86     68      5  68.000000                0           0   \n",
              "..   ...      ...    ...    ...        ...              ...         ...   \n",
              "195  196   159.02     63      3  63.200001                1           0   \n",
              "196  197   205.35     64      4  64.000000                0           0   \n",
              "197  198   133.64     49      4  48.799999                1           0   \n",
              "198  199   158.73     44      2  44.000000                1           0   \n",
              "199  200   156.47     50      2  50.400002                1           0   \n",
              "\n",
              "     fitted_step  residuos_step  bc_despmed  \n",
              "0     213.411485      -6.571485    3.718813  \n",
              "1     204.828144     -20.638144    3.664649  \n",
              "2     204.828144     -29.148144    3.642295  \n",
              "3     213.411485     -33.371485    3.653899  \n",
              "4     213.411485       5.448515    3.744867  \n",
              "..           ...            ...         ...  \n",
              "195   157.688693       1.331307    3.594710  \n",
              "196   204.828144       0.521856    3.715463  \n",
              "197   166.272034     -32.632034    3.510008  \n",
              "198   149.105352       9.624648    3.593832  \n",
              "199   149.105352       7.364648    3.586925  \n",
              "\n",
              "[200 rows x 10 columns]"
            ],
            "text/html": [
              "\n",
              "  <div id=\"df-8549ab26-ecb2-46c5-8ca6-49cbc3a2312c\">\n",
              "    <div class=\"colab-df-container\">\n",
              "      <div>\n",
              "<style scoped>\n",
              "    .dataframe tbody tr th:only-of-type {\n",
              "        vertical-align: middle;\n",
              "    }\n",
              "\n",
              "    .dataframe tbody tr th {\n",
              "        vertical-align: top;\n",
              "    }\n",
              "\n",
              "    .dataframe thead th {\n",
              "        text-align: right;\n",
              "    }\n",
              "</style>\n",
              "<table border=\"1\" class=\"dataframe\">\n",
              "  <thead>\n",
              "    <tr style=\"text-align: right;\">\n",
              "      <th></th>\n",
              "      <th>id</th>\n",
              "      <th>despmed</th>\n",
              "      <th>idade</th>\n",
              "      <th>dcron</th>\n",
              "      <th>renda</th>\n",
              "      <th>plano_esmeralda</th>\n",
              "      <th>plano_ouro</th>\n",
              "      <th>fitted_step</th>\n",
              "      <th>residuos_step</th>\n",
              "      <th>bc_despmed</th>\n",
              "    </tr>\n",
              "  </thead>\n",
              "  <tbody>\n",
              "    <tr>\n",
              "      <th>0</th>\n",
              "      <td>1</td>\n",
              "      <td>206.84</td>\n",
              "      <td>57</td>\n",
              "      <td>5</td>\n",
              "      <td>57.200001</td>\n",
              "      <td>0</td>\n",
              "      <td>0</td>\n",
              "      <td>213.411485</td>\n",
              "      <td>-6.571485</td>\n",
              "      <td>3.718813</td>\n",
              "    </tr>\n",
              "    <tr>\n",
              "      <th>1</th>\n",
              "      <td>2</td>\n",
              "      <td>184.19</td>\n",
              "      <td>67</td>\n",
              "      <td>4</td>\n",
              "      <td>67.199997</td>\n",
              "      <td>0</td>\n",
              "      <td>0</td>\n",
              "      <td>204.828144</td>\n",
              "      <td>-20.638144</td>\n",
              "      <td>3.664649</td>\n",
              "    </tr>\n",
              "    <tr>\n",
              "      <th>2</th>\n",
              "      <td>3</td>\n",
              "      <td>175.68</td>\n",
              "      <td>62</td>\n",
              "      <td>4</td>\n",
              "      <td>62.000000</td>\n",
              "      <td>0</td>\n",
              "      <td>0</td>\n",
              "      <td>204.828144</td>\n",
              "      <td>-29.148144</td>\n",
              "      <td>3.642295</td>\n",
              "    </tr>\n",
              "    <tr>\n",
              "      <th>3</th>\n",
              "      <td>4</td>\n",
              "      <td>180.04</td>\n",
              "      <td>67</td>\n",
              "      <td>5</td>\n",
              "      <td>67.199997</td>\n",
              "      <td>0</td>\n",
              "      <td>0</td>\n",
              "      <td>213.411485</td>\n",
              "      <td>-33.371485</td>\n",
              "      <td>3.653899</td>\n",
              "    </tr>\n",
              "    <tr>\n",
              "      <th>4</th>\n",
              "      <td>5</td>\n",
              "      <td>218.86</td>\n",
              "      <td>68</td>\n",
              "      <td>5</td>\n",
              "      <td>68.000000</td>\n",
              "      <td>0</td>\n",
              "      <td>0</td>\n",
              "      <td>213.411485</td>\n",
              "      <td>5.448515</td>\n",
              "      <td>3.744867</td>\n",
              "    </tr>\n",
              "    <tr>\n",
              "      <th>...</th>\n",
              "      <td>...</td>\n",
              "      <td>...</td>\n",
              "      <td>...</td>\n",
              "      <td>...</td>\n",
              "      <td>...</td>\n",
              "      <td>...</td>\n",
              "      <td>...</td>\n",
              "      <td>...</td>\n",
              "      <td>...</td>\n",
              "      <td>...</td>\n",
              "    </tr>\n",
              "    <tr>\n",
              "      <th>195</th>\n",
              "      <td>196</td>\n",
              "      <td>159.02</td>\n",
              "      <td>63</td>\n",
              "      <td>3</td>\n",
              "      <td>63.200001</td>\n",
              "      <td>1</td>\n",
              "      <td>0</td>\n",
              "      <td>157.688693</td>\n",
              "      <td>1.331307</td>\n",
              "      <td>3.594710</td>\n",
              "    </tr>\n",
              "    <tr>\n",
              "      <th>196</th>\n",
              "      <td>197</td>\n",
              "      <td>205.35</td>\n",
              "      <td>64</td>\n",
              "      <td>4</td>\n",
              "      <td>64.000000</td>\n",
              "      <td>0</td>\n",
              "      <td>0</td>\n",
              "      <td>204.828144</td>\n",
              "      <td>0.521856</td>\n",
              "      <td>3.715463</td>\n",
              "    </tr>\n",
              "    <tr>\n",
              "      <th>197</th>\n",
              "      <td>198</td>\n",
              "      <td>133.64</td>\n",
              "      <td>49</td>\n",
              "      <td>4</td>\n",
              "      <td>48.799999</td>\n",
              "      <td>1</td>\n",
              "      <td>0</td>\n",
              "      <td>166.272034</td>\n",
              "      <td>-32.632034</td>\n",
              "      <td>3.510008</td>\n",
              "    </tr>\n",
              "    <tr>\n",
              "      <th>198</th>\n",
              "      <td>199</td>\n",
              "      <td>158.73</td>\n",
              "      <td>44</td>\n",
              "      <td>2</td>\n",
              "      <td>44.000000</td>\n",
              "      <td>1</td>\n",
              "      <td>0</td>\n",
              "      <td>149.105352</td>\n",
              "      <td>9.624648</td>\n",
              "      <td>3.593832</td>\n",
              "    </tr>\n",
              "    <tr>\n",
              "      <th>199</th>\n",
              "      <td>200</td>\n",
              "      <td>156.47</td>\n",
              "      <td>50</td>\n",
              "      <td>2</td>\n",
              "      <td>50.400002</td>\n",
              "      <td>1</td>\n",
              "      <td>0</td>\n",
              "      <td>149.105352</td>\n",
              "      <td>7.364648</td>\n",
              "      <td>3.586925</td>\n",
              "    </tr>\n",
              "  </tbody>\n",
              "</table>\n",
              "<p>200 rows × 10 columns</p>\n",
              "</div>\n",
              "      <button class=\"colab-df-convert\" onclick=\"convertToInteractive('df-8549ab26-ecb2-46c5-8ca6-49cbc3a2312c')\"\n",
              "              title=\"Convert this dataframe to an interactive table.\"\n",
              "              style=\"display:none;\">\n",
              "        \n",
              "  <svg xmlns=\"http://www.w3.org/2000/svg\" height=\"24px\"viewBox=\"0 0 24 24\"\n",
              "       width=\"24px\">\n",
              "    <path d=\"M0 0h24v24H0V0z\" fill=\"none\"/>\n",
              "    <path d=\"M18.56 5.44l.94 2.06.94-2.06 2.06-.94-2.06-.94-.94-2.06-.94 2.06-2.06.94zm-11 1L8.5 8.5l.94-2.06 2.06-.94-2.06-.94L8.5 2.5l-.94 2.06-2.06.94zm10 10l.94 2.06.94-2.06 2.06-.94-2.06-.94-.94-2.06-.94 2.06-2.06.94z\"/><path d=\"M17.41 7.96l-1.37-1.37c-.4-.4-.92-.59-1.43-.59-.52 0-1.04.2-1.43.59L10.3 9.45l-7.72 7.72c-.78.78-.78 2.05 0 2.83L4 21.41c.39.39.9.59 1.41.59.51 0 1.02-.2 1.41-.59l7.78-7.78 2.81-2.81c.8-.78.8-2.07 0-2.86zM5.41 20L4 18.59l7.72-7.72 1.47 1.35L5.41 20z\"/>\n",
              "  </svg>\n",
              "      </button>\n",
              "      \n",
              "  <style>\n",
              "    .colab-df-container {\n",
              "      display:flex;\n",
              "      flex-wrap:wrap;\n",
              "      gap: 12px;\n",
              "    }\n",
              "\n",
              "    .colab-df-convert {\n",
              "      background-color: #E8F0FE;\n",
              "      border: none;\n",
              "      border-radius: 50%;\n",
              "      cursor: pointer;\n",
              "      display: none;\n",
              "      fill: #1967D2;\n",
              "      height: 32px;\n",
              "      padding: 0 0 0 0;\n",
              "      width: 32px;\n",
              "    }\n",
              "\n",
              "    .colab-df-convert:hover {\n",
              "      background-color: #E2EBFA;\n",
              "      box-shadow: 0px 1px 2px rgba(60, 64, 67, 0.3), 0px 1px 3px 1px rgba(60, 64, 67, 0.15);\n",
              "      fill: #174EA6;\n",
              "    }\n",
              "\n",
              "    [theme=dark] .colab-df-convert {\n",
              "      background-color: #3B4455;\n",
              "      fill: #D2E3FC;\n",
              "    }\n",
              "\n",
              "    [theme=dark] .colab-df-convert:hover {\n",
              "      background-color: #434B5C;\n",
              "      box-shadow: 0px 1px 3px 1px rgba(0, 0, 0, 0.15);\n",
              "      filter: drop-shadow(0px 1px 2px rgba(0, 0, 0, 0.3));\n",
              "      fill: #FFFFFF;\n",
              "    }\n",
              "  </style>\n",
              "\n",
              "      <script>\n",
              "        const buttonEl =\n",
              "          document.querySelector('#df-8549ab26-ecb2-46c5-8ca6-49cbc3a2312c button.colab-df-convert');\n",
              "        buttonEl.style.display =\n",
              "          google.colab.kernel.accessAllowed ? 'block' : 'none';\n",
              "\n",
              "        async function convertToInteractive(key) {\n",
              "          const element = document.querySelector('#df-8549ab26-ecb2-46c5-8ca6-49cbc3a2312c');\n",
              "          const dataTable =\n",
              "            await google.colab.kernel.invokeFunction('convertToInteractive',\n",
              "                                                     [key], {});\n",
              "          if (!dataTable) return;\n",
              "\n",
              "          const docLinkHtml = 'Like what you see? Visit the ' +\n",
              "            '<a target=\"_blank\" href=https://colab.research.google.com/notebooks/data_table.ipynb>data table notebook</a>'\n",
              "            + ' to learn more about interactive tables.';\n",
              "          element.innerHTML = '';\n",
              "          dataTable['output_type'] = 'display_data';\n",
              "          await google.colab.output.renderOutput(dataTable, element);\n",
              "          const docLink = document.createElement('div');\n",
              "          docLink.innerHTML = docLinkHtml;\n",
              "          element.appendChild(docLink);\n",
              "        }\n",
              "      </script>\n",
              "    </div>\n",
              "  </div>\n",
              "  "
            ]
          },
          "metadata": {},
          "execution_count": 27
        }
      ]
    },
    {
      "cell_type": "markdown",
      "source": [
        "## Estimando um novo modelo múltiplo"
      ],
      "metadata": {
        "id": "FOZ5Z8xQ13or"
      }
    },
    {
      "cell_type": "markdown",
      "source": [
        "Com variável dependente transformada por Box-Cox e sem retirar nenhuma variável dependente"
      ],
      "metadata": {
        "id": "bTLH7OwZ19HG"
      }
    },
    {
      "cell_type": "code",
      "source": [
        "modelo_bc_planosaude = sm.OLS.from_formula('bc_despmed ~ idade + dcron +\\\n",
        "                                           renda + plano_esmeralda +\\\n",
        "                                               plano_ouro',\n",
        "                                               df_planosaude_dummies).fit()\n",
        "\n",
        "#Parâmetros do modelo\n",
        "modelo_bc_planosaude.summary()\n"
      ],
      "metadata": {
        "colab": {
          "base_uri": "https://localhost:8080/",
          "height": 529
        },
        "id": "3RIzfajX2G34",
        "outputId": "ce0908a0-e000-45c5-f0bd-58548d5296d1"
      },
      "execution_count": 29,
      "outputs": [
        {
          "output_type": "execute_result",
          "data": {
            "text/plain": [
              "<class 'statsmodels.iolib.summary.Summary'>\n",
              "\"\"\"\n",
              "                            OLS Regression Results                            \n",
              "==============================================================================\n",
              "Dep. Variable:             bc_despmed   R-squared:                       0.893\n",
              "Model:                            OLS   Adj. R-squared:                  0.891\n",
              "Method:                 Least Squares   F-statistic:                     325.5\n",
              "Date:                Fri, 10 Mar 2023   Prob (F-statistic):           2.80e-92\n",
              "Time:                        00:11:06   Log-Likelihood:                 355.33\n",
              "No. Observations:                 200   AIC:                            -698.7\n",
              "Df Residuals:                     194   BIC:                            -678.9\n",
              "Df Model:                           5                                         \n",
              "Covariance Type:            nonrobust                                         \n",
              "===================================================================================\n",
              "                      coef    std err          t      P>|t|      [0.025      0.975]\n",
              "-----------------------------------------------------------------------------------\n",
              "Intercept           3.5507      0.034    103.431      0.000       3.483       3.618\n",
              "idade               0.0146      0.015      0.980      0.328      -0.015       0.044\n",
              "dcron               0.0231      0.004      5.360      0.000       0.015       0.032\n",
              "renda              -0.0136      0.015     -0.924      0.357      -0.043       0.015\n",
              "plano_esmeralda    -0.0820      0.013     -6.494      0.000      -0.107      -0.057\n",
              "plano_ouro         -0.1791      0.016    -10.944      0.000      -0.211      -0.147\n",
              "==============================================================================\n",
              "Omnibus:                        3.284   Durbin-Watson:                   1.828\n",
              "Prob(Omnibus):                  0.194   Jarque-Bera (JB):                2.871\n",
              "Skew:                          -0.246   Prob(JB):                        0.238\n",
              "Kurtosis:                       3.319   Cond. No.                         964.\n",
              "==============================================================================\n",
              "\n",
              "Notes:\n",
              "[1] Standard Errors assume that the covariance matrix of the errors is correctly specified.\n",
              "\"\"\""
            ],
            "text/html": [
              "<table class=\"simpletable\">\n",
              "<caption>OLS Regression Results</caption>\n",
              "<tr>\n",
              "  <th>Dep. Variable:</th>       <td>bc_despmed</td>    <th>  R-squared:         </th> <td>   0.893</td>\n",
              "</tr>\n",
              "<tr>\n",
              "  <th>Model:</th>                   <td>OLS</td>       <th>  Adj. R-squared:    </th> <td>   0.891</td>\n",
              "</tr>\n",
              "<tr>\n",
              "  <th>Method:</th>             <td>Least Squares</td>  <th>  F-statistic:       </th> <td>   325.5</td>\n",
              "</tr>\n",
              "<tr>\n",
              "  <th>Date:</th>             <td>Fri, 10 Mar 2023</td> <th>  Prob (F-statistic):</th> <td>2.80e-92</td>\n",
              "</tr>\n",
              "<tr>\n",
              "  <th>Time:</th>                 <td>00:11:06</td>     <th>  Log-Likelihood:    </th> <td>  355.33</td>\n",
              "</tr>\n",
              "<tr>\n",
              "  <th>No. Observations:</th>      <td>   200</td>      <th>  AIC:               </th> <td>  -698.7</td>\n",
              "</tr>\n",
              "<tr>\n",
              "  <th>Df Residuals:</th>          <td>   194</td>      <th>  BIC:               </th> <td>  -678.9</td>\n",
              "</tr>\n",
              "<tr>\n",
              "  <th>Df Model:</th>              <td>     5</td>      <th>                     </th>     <td> </td>   \n",
              "</tr>\n",
              "<tr>\n",
              "  <th>Covariance Type:</th>      <td>nonrobust</td>    <th>                     </th>     <td> </td>   \n",
              "</tr>\n",
              "</table>\n",
              "<table class=\"simpletable\">\n",
              "<tr>\n",
              "         <td></td>            <th>coef</th>     <th>std err</th>      <th>t</th>      <th>P>|t|</th>  <th>[0.025</th>    <th>0.975]</th>  \n",
              "</tr>\n",
              "<tr>\n",
              "  <th>Intercept</th>       <td>    3.5507</td> <td>    0.034</td> <td>  103.431</td> <td> 0.000</td> <td>    3.483</td> <td>    3.618</td>\n",
              "</tr>\n",
              "<tr>\n",
              "  <th>idade</th>           <td>    0.0146</td> <td>    0.015</td> <td>    0.980</td> <td> 0.328</td> <td>   -0.015</td> <td>    0.044</td>\n",
              "</tr>\n",
              "<tr>\n",
              "  <th>dcron</th>           <td>    0.0231</td> <td>    0.004</td> <td>    5.360</td> <td> 0.000</td> <td>    0.015</td> <td>    0.032</td>\n",
              "</tr>\n",
              "<tr>\n",
              "  <th>renda</th>           <td>   -0.0136</td> <td>    0.015</td> <td>   -0.924</td> <td> 0.357</td> <td>   -0.043</td> <td>    0.015</td>\n",
              "</tr>\n",
              "<tr>\n",
              "  <th>plano_esmeralda</th> <td>   -0.0820</td> <td>    0.013</td> <td>   -6.494</td> <td> 0.000</td> <td>   -0.107</td> <td>   -0.057</td>\n",
              "</tr>\n",
              "<tr>\n",
              "  <th>plano_ouro</th>      <td>   -0.1791</td> <td>    0.016</td> <td>  -10.944</td> <td> 0.000</td> <td>   -0.211</td> <td>   -0.147</td>\n",
              "</tr>\n",
              "</table>\n",
              "<table class=\"simpletable\">\n",
              "<tr>\n",
              "  <th>Omnibus:</th>       <td> 3.284</td> <th>  Durbin-Watson:     </th> <td>   1.828</td>\n",
              "</tr>\n",
              "<tr>\n",
              "  <th>Prob(Omnibus):</th> <td> 0.194</td> <th>  Jarque-Bera (JB):  </th> <td>   2.871</td>\n",
              "</tr>\n",
              "<tr>\n",
              "  <th>Skew:</th>          <td>-0.246</td> <th>  Prob(JB):          </th> <td>   0.238</td>\n",
              "</tr>\n",
              "<tr>\n",
              "  <th>Kurtosis:</th>      <td> 3.319</td> <th>  Cond. No.          </th> <td>    964.</td>\n",
              "</tr>\n",
              "</table><br/><br/>Notes:<br/>[1] Standard Errors assume that the covariance matrix of the errors is correctly specified."
            ]
          },
          "metadata": {},
          "execution_count": 29
        }
      ]
    },
    {
      "cell_type": "markdown",
      "source": [
        "Novamente o renda e idade apresentou não ter significancia estatística, será aplicado novamente o método step wise."
      ],
      "metadata": {
        "id": "2HanmYNH2aS0"
      }
    },
    {
      "cell_type": "code",
      "source": [
        "modelo_step_bc_planosaude = stepwise(modelo_bc_planosaude, pvalue_limit=0.05)"
      ],
      "metadata": {
        "colab": {
          "base_uri": "https://localhost:8080/"
        },
        "id": "quLAVRBA3NNX",
        "outputId": "0158fcb1-a106-47b2-99be-ae466e7b3601"
      },
      "execution_count": 30,
      "outputs": [
        {
          "output_type": "stream",
          "name": "stdout",
          "text": [
            "Regression type: OLS \n",
            "\n",
            "Estimating model...: \n",
            " bc_despmed ~ idade + dcron + renda + plano_esmeralda + plano_ouro\n",
            "\n",
            " Discarding atribute \"renda\" with p-value equal to 0.35652506193898914 \n",
            "\n",
            "Estimating model...: \n",
            " bc_despmed ~ idade + dcron + plano_esmeralda + plano_ouro\n",
            "\n",
            " Discarding atribute \"idade\" with p-value equal to 0.16481169113208033 \n",
            "\n",
            "Estimating model...: \n",
            " bc_despmed ~ dcron + plano_esmeralda + plano_ouro\n",
            "\n",
            " No more atributes with p-value higher than 0.05\n",
            "\n",
            " Atributes discarded on the process...: \n",
            "\n",
            "{'atribute': 'renda', 'p-value': 0.35652506193898914}\n",
            "{'atribute': 'idade', 'p-value': 0.16481169113208033}\n",
            "\n",
            " Model after stepwise process...: \n",
            " bc_despmed ~ dcron + plano_esmeralda + plano_ouro \n",
            "\n",
            "                            OLS Regression Results                            \n",
            "==============================================================================\n",
            "Dep. Variable:             bc_despmed   R-squared:                       0.892\n",
            "Model:                            OLS   Adj. R-squared:                  0.890\n",
            "Method:                 Least Squares   F-statistic:                     539.4\n",
            "Date:                Fri, 10 Mar 2023   Prob (F-statistic):           2.07e-94\n",
            "Time:                        00:11:48   Log-Likelihood:                 353.90\n",
            "No. Observations:                 200   AIC:                            -699.8\n",
            "Df Residuals:                     196   BIC:                            -686.6\n",
            "Df Model:                           3                                         \n",
            "Covariance Type:            nonrobust                                         \n",
            "===================================================================================\n",
            "                      coef    std err          t      P>|t|      [0.025      0.975]\n",
            "-----------------------------------------------------------------------------------\n",
            "Intercept           3.5983      0.017    211.642      0.000       3.565       3.632\n",
            "dcron               0.0271      0.004      7.582      0.000       0.020       0.034\n",
            "plano_esmeralda    -0.0903      0.011     -8.137      0.000      -0.112      -0.068\n",
            "plano_ouro         -0.1910      0.014    -13.437      0.000      -0.219      -0.163\n",
            "==============================================================================\n",
            "Omnibus:                        2.456   Durbin-Watson:                   1.806\n",
            "Prob(Omnibus):                  0.293   Jarque-Bera (JB):                2.071\n",
            "Skew:                          -0.185   Prob(JB):                        0.355\n",
            "Kurtosis:                       3.333   Cond. No.                         27.0\n",
            "==============================================================================\n",
            "\n",
            "Notes:\n",
            "[1] Standard Errors assume that the covariance matrix of the errors is correctly specified.\n"
          ]
        }
      ]
    },
    {
      "cell_type": "markdown",
      "source": [
        "Note que a variável 'disclosure' acaba voltando ao modelo\n",
        "na forma funcional não linear!\n"
      ],
      "metadata": {
        "id": "p-Sxz33D3S8A"
      }
    },
    {
      "cell_type": "markdown",
      "source": [
        "## Verificando a normalidade dos resíduos do 'modelo_step_empresas_bc'"
      ],
      "metadata": {
        "id": "pdw4g6Lr3YQQ"
      }
    },
    {
      "cell_type": "code",
      "source": [
        "shapiroFrancia(modelo_step_bc_planosaude.resid)"
      ],
      "metadata": {
        "colab": {
          "base_uri": "https://localhost:8080/"
        },
        "id": "RctxIwgR3csZ",
        "outputId": "09a99ea2-0789-4c27-ded5-f82544513c02"
      },
      "execution_count": 31,
      "outputs": [
        {
          "output_type": "execute_result",
          "data": {
            "text/plain": [
              "{'method': 'Shapiro-Francia normality test',\n",
              " 'statistics W': 0.9868895949417088,\n",
              " 'statistics z': 1.5678174790534372,\n",
              " 'p-value': 0.058461867248408454}"
            ]
          },
          "metadata": {},
          "execution_count": 31
        }
      ]
    },
    {
      "cell_type": "markdown",
      "source": [
        "Plotando os novos resíduos do 'modelo_step_empresas_bc'"
      ],
      "metadata": {
        "id": "Mtb8ZEWr3ic9"
      }
    },
    {
      "cell_type": "code",
      "source": [
        "from scipy.stats import norm\n",
        "\n",
        "plt.figure(figsize=(15,10))\n",
        "sns.distplot(modelo_step_bc_planosaude.resid, fit=norm, kde=True, bins=15)\n",
        "plt.xlabel('Resíduos', fontsize=16)\n",
        "plt.ylabel('Frequências', fontsize=16)\n",
        "plt.show()"
      ],
      "metadata": {
        "colab": {
          "base_uri": "https://localhost:8080/",
          "height": 666
        },
        "id": "j0w-QhCd3gr0",
        "outputId": "1d914559-2f90-4ad2-a02f-319e82867720"
      },
      "execution_count": 32,
      "outputs": [
        {
          "output_type": "stream",
          "name": "stderr",
          "text": [
            "/usr/local/lib/python3.9/dist-packages/seaborn/distributions.py:2619: FutureWarning: `distplot` is a deprecated function and will be removed in a future version. Please adapt your code to use either `displot` (a figure-level function with similar flexibility) or `histplot` (an axes-level function for histograms).\n",
            "  warnings.warn(msg, FutureWarning)\n"
          ]
        },
        {
          "output_type": "display_data",
          "data": {
            "text/plain": [
              "<Figure size 1080x720 with 1 Axes>"
            ],
            "image/png": "[encoded data removed]"
          },
          "metadata": {
            "needs_background": "light"
          }
        }
      ]
    },
    {
      "cell_type": "markdown",
      "source": [
        "Kernel density estimation (KDE)"
      ],
      "metadata": {
        "id": "P5aSWcxN3NYh"
      }
    },
    {
      "cell_type": "code",
      "source": [
        "plt.figure(figsize=(15,10))\n",
        "sns.kdeplot(data=modelo_step_bc_planosaude.resid, multiple=\"stack\",\n",
        "            color='#440154FF')\n",
        "plt.xlabel('Resíduos', fontsize=16)\n",
        "plt.ylabel('Frequências', fontsize=16)\n",
        "plt.show()\n"
      ],
      "metadata": {
        "colab": {
          "base_uri": "https://localhost:8080/",
          "height": 611
        },
        "id": "yKU2hAlL3Oeg",
        "outputId": "b47d8ecc-7959-48c3-f942-c3c9f5847b75"
      },
      "execution_count": 33,
      "outputs": [
        {
          "output_type": "display_data",
          "data": {
            "text/plain": [
              "<Figure size 1080x720 with 1 Axes>"
            ],
            "image/png": "[encoded data removed]"
          },
          "metadata": {
            "needs_background": "light"
          }
        }
      ]
    },
    {
      "cell_type": "markdown",
      "source": [
        "Teste de Breusch-Pagan para diagnóstico de heterocedasticidade\n",
        "no 'modelo_step_bc_planosaude'"
      ],
      "metadata": {
        "id": "IGa6apj73Rnh"
      }
    },
    {
      "cell_type": "code",
      "source": [
        "breusch_pagan_test(modelo_step_bc_planosaude)"
      ],
      "metadata": {
        "colab": {
          "base_uri": "https://localhost:8080/"
        },
        "id": "uiIfLnzW3Ti3",
        "outputId": "d3589cf3-acd5-49fa-8f1a-e75404e17399"
      },
      "execution_count": 34,
      "outputs": [
        {
          "output_type": "stream",
          "name": "stdout",
          "text": [
            "chisq: 1.0126281112242304\n",
            "p-value: 0.47788750037446837\n"
          ]
        },
        {
          "output_type": "execute_result",
          "data": {
            "text/plain": [
              "(1.0126281112242304, 0.47788750037446837)"
            ]
          },
          "metadata": {},
          "execution_count": 34
        }
      ]
    },
    {
      "cell_type": "markdown",
      "source": [
        "Adicionando fitted values e resíduos do 'modelo_step_bc_planosaude'\n",
        "no dataset 'df_planosaude_dummies'"
      ],
      "metadata": {
        "id": "oVefTgC04T_3"
      }
    },
    {
      "cell_type": "code",
      "source": [
        "df_planosaude_dummies['fitted_step_bc'] = modelo_step_bc_planosaude.fittedvalues\n",
        "df_planosaude_dummies['residuos_step_bc'] = modelo_step_bc_planosaude.resid\n",
        "df_planosaude_dummies"
      ],
      "metadata": {
        "colab": {
          "base_uri": "https://localhost:8080/",
          "height": 423
        },
        "id": "-UaUGfnd4WxP",
        "outputId": "2a31e5cf-af84-4cfd-d7ec-aa55128f6c2a"
      },
      "execution_count": 35,
      "outputs": [
        {
          "output_type": "execute_result",
          "data": {
            "text/plain": [
              "      id  despmed  idade  dcron      renda  plano_esmeralda  plano_ouro  \\\n",
              "0      1   206.84     57      5  57.200001                0           0   \n",
              "1      2   184.19     67      4  67.199997                0           0   \n",
              "2      3   175.68     62      4  62.000000                0           0   \n",
              "3      4   180.04     67      5  67.199997                0           0   \n",
              "4      5   218.86     68      5  68.000000                0           0   \n",
              "..   ...      ...    ...    ...        ...              ...         ...   \n",
              "195  196   159.02     63      3  63.200001                1           0   \n",
              "196  197   205.35     64      4  64.000000                0           0   \n",
              "197  198   133.64     49      4  48.799999                1           0   \n",
              "198  199   158.73     44      2  44.000000                1           0   \n",
              "199  200   156.47     50      2  50.400002                1           0   \n",
              "\n",
              "     fitted_step  residuos_step  bc_despmed  fitted_step_bc  residuos_step_bc  \n",
              "0     213.411485      -6.571485    3.718813        3.733710         -0.014897  \n",
              "1     204.828144     -20.638144    3.664649        3.706620         -0.041972  \n",
              "2     204.828144     -29.148144    3.642295        3.706620         -0.064325  \n",
              "3     213.411485     -33.371485    3.653899        3.733710         -0.079812  \n",
              "4     213.411485       5.448515    3.744867        3.733710          0.011157  \n",
              "..           ...            ...         ...             ...               ...  \n",
              "195   157.688693       1.331307    3.594710        3.589191          0.005519  \n",
              "196   204.828144       0.521856    3.715463        3.706620          0.008843  \n",
              "197   166.272034     -32.632034    3.510008        3.616281         -0.106274  \n",
              "198   149.105352       9.624648    3.593832        3.562101          0.031730  \n",
              "199   149.105352       7.364648    3.586925        3.562101          0.024823  \n",
              "\n",
              "[200 rows x 12 columns]"
            ],
            "text/html": [
              "\n",
              "  <div id=\"df-00e9558a-0735-4726-8542-0e3a5d687f89\">\n",
              "    <div class=\"colab-df-container\">\n",
              "      <div>\n",
              "<style scoped>\n",
              "    .dataframe tbody tr th:only-of-type {\n",
              "        vertical-align: middle;\n",
              "    }\n",
              "\n",
              "    .dataframe tbody tr th {\n",
              "        vertical-align: top;\n",
              "    }\n",
              "\n",
              "    .dataframe thead th {\n",
              "        text-align: right;\n",
              "    }\n",
              "</style>\n",
              "<table border=\"1\" class=\"dataframe\">\n",
              "  <thead>\n",
              "    <tr style=\"text-align: right;\">\n",
              "      <th></th>\n",
              "      <th>id</th>\n",
              "      <th>despmed</th>\n",
              "      <th>idade</th>\n",
              "      <th>dcron</th>\n",
              "      <th>renda</th>\n",
              "      <th>plano_esmeralda</th>\n",
              "      <th>plano_ouro</th>\n",
              "      <th>fitted_step</th>\n",
              "      <th>residuos_step</th>\n",
              "      <th>bc_despmed</th>\n",
              "      <th>fitted_step_bc</th>\n",
              "      <th>residuos_step_bc</th>\n",
              "    </tr>\n",
              "  </thead>\n",
              "  <tbody>\n",
              "    <tr>\n",
              "      <th>0</th>\n",
              "      <td>1</td>\n",
              "      <td>206.84</td>\n",
              "      <td>57</td>\n",
              "      <td>5</td>\n",
              "      <td>57.200001</td>\n",
              "      <td>0</td>\n",
              "      <td>0</td>\n",
              "      <td>213.411485</td>\n",
              "      <td>-6.571485</td>\n",
              "      <td>3.718813</td>\n",
              "      <td>3.733710</td>\n",
              "      <td>-0.014897</td>\n",
              "    </tr>\n",
              "    <tr>\n",
              "      <th>1</th>\n",
              "      <td>2</td>\n",
              "      <td>184.19</td>\n",
              "      <td>67</td>\n",
              "      <td>4</td>\n",
              "      <td>67.199997</td>\n",
              "      <td>0</td>\n",
              "      <td>0</td>\n",
              "      <td>204.828144</td>\n",
              "      <td>-20.638144</td>\n",
              "      <td>3.664649</td>\n",
              "      <td>3.706620</td>\n",
              "      <td>-0.041972</td>\n",
              "    </tr>\n",
              "    <tr>\n",
              "      <th>2</th>\n",
              "      <td>3</td>\n",
              "      <td>175.68</td>\n",
              "      <td>62</td>\n",
              "      <td>4</td>\n",
              "      <td>62.000000</td>\n",
              "      <td>0</td>\n",
              "      <td>0</td>\n",
              "      <td>204.828144</td>\n",
              "      <td>-29.148144</td>\n",
              "      <td>3.642295</td>\n",
              "      <td>3.706620</td>\n",
              "      <td>-0.064325</td>\n",
              "    </tr>\n",
              "    <tr>\n",
              "      <th>3</th>\n",
              "      <td>4</td>\n",
              "      <td>180.04</td>\n",
              "      <td>67</td>\n",
              "      <td>5</td>\n",
              "      <td>67.199997</td>\n",
              "      <td>0</td>\n",
              "      <td>0</td>\n",
              "      <td>213.411485</td>\n",
              "      <td>-33.371485</td>\n",
              "      <td>3.653899</td>\n",
              "      <td>3.733710</td>\n",
              "      <td>-0.079812</td>\n",
              "    </tr>\n",
              "    <tr>\n",
              "      <th>4</th>\n",
              "      <td>5</td>\n",
              "      <td>218.86</td>\n",
              "      <td>68</td>\n",
              "      <td>5</td>\n",
              "      <td>68.000000</td>\n",
              "      <td>0</td>\n",
              "      <td>0</td>\n",
              "      <td>213.411485</td>\n",
              "      <td>5.448515</td>\n",
              "      <td>3.744867</td>\n",
              "      <td>3.733710</td>\n",
              "      <td>0.011157</td>\n",
              "    </tr>\n",
              "    <tr>\n",
              "      <th>...</th>\n",
              "      <td>...</td>\n",
              "      <td>...</td>\n",
              "      <td>...</td>\n",
              "      <td>...</td>\n",
              "      <td>...</td>\n",
              "      <td>...</td>\n",
              "      <td>...</td>\n",
              "      <td>...</td>\n",
              "      <td>...</td>\n",
              "      <td>...</td>\n",
              "      <td>...</td>\n",
              "      <td>...</td>\n",
              "    </tr>\n",
              "    <tr>\n",
              "      <th>195</th>\n",
              "      <td>196</td>\n",
              "      <td>159.02</td>\n",
              "      <td>63</td>\n",
              "      <td>3</td>\n",
              "      <td>63.200001</td>\n",
              "      <td>1</td>\n",
              "      <td>0</td>\n",
              "      <td>157.688693</td>\n",
              "      <td>1.331307</td>\n",
              "      <td>3.594710</td>\n",
              "      <td>3.589191</td>\n",
              "      <td>0.005519</td>\n",
              "    </tr>\n",
              "    <tr>\n",
              "      <th>196</th>\n",
              "      <td>197</td>\n",
              "      <td>205.35</td>\n",
              "      <td>64</td>\n",
              "      <td>4</td>\n",
              "      <td>64.000000</td>\n",
              "      <td>0</td>\n",
              "      <td>0</td>\n",
              "      <td>204.828144</td>\n",
              "      <td>0.521856</td>\n",
              "      <td>3.715463</td>\n",
              "      <td>3.706620</td>\n",
              "      <td>0.008843</td>\n",
              "    </tr>\n",
              "    <tr>\n",
              "      <th>197</th>\n",
              "      <td>198</td>\n",
              "      <td>133.64</td>\n",
              "      <td>49</td>\n",
              "      <td>4</td>\n",
              "      <td>48.799999</td>\n",
              "      <td>1</td>\n",
              "      <td>0</td>\n",
              "      <td>166.272034</td>\n",
              "      <td>-32.632034</td>\n",
              "      <td>3.510008</td>\n",
              "      <td>3.616281</td>\n",
              "      <td>-0.106274</td>\n",
              "    </tr>\n",
              "    <tr>\n",
              "      <th>198</th>\n",
              "      <td>199</td>\n",
              "      <td>158.73</td>\n",
              "      <td>44</td>\n",
              "      <td>2</td>\n",
              "      <td>44.000000</td>\n",
              "      <td>1</td>\n",
              "      <td>0</td>\n",
              "      <td>149.105352</td>\n",
              "      <td>9.624648</td>\n",
              "      <td>3.593832</td>\n",
              "      <td>3.562101</td>\n",
              "      <td>0.031730</td>\n",
              "    </tr>\n",
              "    <tr>\n",
              "      <th>199</th>\n",
              "      <td>200</td>\n",
              "      <td>156.47</td>\n",
              "      <td>50</td>\n",
              "      <td>2</td>\n",
              "      <td>50.400002</td>\n",
              "      <td>1</td>\n",
              "      <td>0</td>\n",
              "      <td>149.105352</td>\n",
              "      <td>7.364648</td>\n",
              "      <td>3.586925</td>\n",
              "      <td>3.562101</td>\n",
              "      <td>0.024823</td>\n",
              "    </tr>\n",
              "  </tbody>\n",
              "</table>\n",
              "<p>200 rows × 12 columns</p>\n",
              "</div>\n",
              "      <button class=\"colab-df-convert\" onclick=\"convertToInteractive('df-00e9558a-0735-4726-8542-0e3a5d687f89')\"\n",
              "              title=\"Convert this dataframe to an interactive table.\"\n",
              "              style=\"display:none;\">\n",
              "        \n",
              "  <svg xmlns=\"http://www.w3.org/2000/svg\" height=\"24px\"viewBox=\"0 0 24 24\"\n",
              "       width=\"24px\">\n",
              "    <path d=\"M0 0h24v24H0V0z\" fill=\"none\"/>\n",
              "    <path d=\"M18.56 5.44l.94 2.06.94-2.06 2.06-.94-2.06-.94-.94-2.06-.94 2.06-2.06.94zm-11 1L8.5 8.5l.94-2.06 2.06-.94-2.06-.94L8.5 2.5l-.94 2.06-2.06.94zm10 10l.94 2.06.94-2.06 2.06-.94-2.06-.94-.94-2.06-.94 2.06-2.06.94z\"/><path d=\"M17.41 7.96l-1.37-1.37c-.4-.4-.92-.59-1.43-.59-.52 0-1.04.2-1.43.59L10.3 9.45l-7.72 7.72c-.78.78-.78 2.05 0 2.83L4 21.41c.39.39.9.59 1.41.59.51 0 1.02-.2 1.41-.59l7.78-7.78 2.81-2.81c.8-.78.8-2.07 0-2.86zM5.41 20L4 18.59l7.72-7.72 1.47 1.35L5.41 20z\"/>\n",
              "  </svg>\n",
              "      </button>\n",
              "      \n",
              "  <style>\n",
              "    .colab-df-container {\n",
              "      display:flex;\n",
              "      flex-wrap:wrap;\n",
              "      gap: 12px;\n",
              "    }\n",
              "\n",
              "    .colab-df-convert {\n",
              "      background-color: #E8F0FE;\n",
              "      border: none;\n",
              "      border-radius: 50%;\n",
              "      cursor: pointer;\n",
              "      display: none;\n",
              "      fill: #1967D2;\n",
              "      height: 32px;\n",
              "      padding: 0 0 0 0;\n",
              "      width: 32px;\n",
              "    }\n",
              "\n",
              "    .colab-df-convert:hover {\n",
              "      background-color: #E2EBFA;\n",
              "      box-shadow: 0px 1px 2px rgba(60, 64, 67, 0.3), 0px 1px 3px 1px rgba(60, 64, 67, 0.15);\n",
              "      fill: #174EA6;\n",
              "    }\n",
              "\n",
              "    [theme=dark] .colab-df-convert {\n",
              "      background-color: #3B4455;\n",
              "      fill: #D2E3FC;\n",
              "    }\n",
              "\n",
              "    [theme=dark] .colab-df-convert:hover {\n",
              "      background-color: #434B5C;\n",
              "      box-shadow: 0px 1px 3px 1px rgba(0, 0, 0, 0.15);\n",
              "      filter: drop-shadow(0px 1px 2px rgba(0, 0, 0, 0.3));\n",
              "      fill: #FFFFFF;\n",
              "    }\n",
              "  </style>\n",
              "\n",
              "      <script>\n",
              "        const buttonEl =\n",
              "          document.querySelector('#df-00e9558a-0735-4726-8542-0e3a5d687f89 button.colab-df-convert');\n",
              "        buttonEl.style.display =\n",
              "          google.colab.kernel.accessAllowed ? 'block' : 'none';\n",
              "\n",
              "        async function convertToInteractive(key) {\n",
              "          const element = document.querySelector('#df-00e9558a-0735-4726-8542-0e3a5d687f89');\n",
              "          const dataTable =\n",
              "            await google.colab.kernel.invokeFunction('convertToInteractive',\n",
              "                                                     [key], {});\n",
              "          if (!dataTable) return;\n",
              "\n",
              "          const docLinkHtml = 'Like what you see? Visit the ' +\n",
              "            '<a target=\"_blank\" href=https://colab.research.google.com/notebooks/data_table.ipynb>data table notebook</a>'\n",
              "            + ' to learn more about interactive tables.';\n",
              "          element.innerHTML = '';\n",
              "          dataTable['output_type'] = 'display_data';\n",
              "          await google.colab.output.renderOutput(dataTable, element);\n",
              "          const docLink = document.createElement('div');\n",
              "          docLink.innerHTML = docLinkHtml;\n",
              "          element.appendChild(docLink);\n",
              "        }\n",
              "      </script>\n",
              "    </div>\n",
              "  </div>\n",
              "  "
            ]
          },
          "metadata": {},
          "execution_count": 35
        }
      ]
    },
    {
      "cell_type": "markdown",
      "source": [
        "Gráfico que relaciona resíduos e fitted values\n",
        "do 'modelo_step_bc_planosaude'"
      ],
      "metadata": {
        "id": "WdgmarQ64tg9"
      }
    },
    {
      "cell_type": "code",
      "source": [
        "xdata = df_planosaude_dummies['fitted_step_bc']\n",
        "ydata = df_planosaude_dummies['residuos_step_bc']\n",
        "\n",
        "plt.figure(figsize=(15,10))\n",
        "plt.scatter(xdata, ydata, alpha=0.6)\n",
        "plt.xlabel('Fitted Values do Modelo Stepwise com Transformação de Box-Cox',\n",
        "           fontsize=16)\n",
        "plt.ylabel('Resíduos do Modelo Stepwise com Transformação de Box-Cox',\n",
        "           fontsize=16)\n",
        "plt.show()"
      ],
      "metadata": {
        "colab": {
          "base_uri": "https://localhost:8080/",
          "height": 611
        },
        "id": "GTA-BLwm41De",
        "outputId": "e57513bd-804b-408d-b7ca-b7d692454110"
      },
      "execution_count": 36,
      "outputs": [
        {
          "output_type": "display_data",
          "data": {
            "text/plain": [
              "<Figure size 1080x720 with 1 Axes>"
            ],
            "image/png": "[encoded data removed]"
          },
          "metadata": {
            "needs_background": "light"
          }
        }
      ]
    }
  ]
}